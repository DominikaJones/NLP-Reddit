{
 "cells": [
  {
   "cell_type": "markdown",
   "metadata": {},
   "source": [
    "# Project 3: Web API's & NLP"
   ]
  },
  {
   "cell_type": "markdown",
   "metadata": {},
   "source": [
    "## Collecting the Data with Pushshift"
   ]
  },
  {
   "cell_type": "code",
   "execution_count": 1,
   "metadata": {},
   "outputs": [],
   "source": [
    "import pandas as pd\n",
    "import numpy as np\n",
    "import requests\n",
    "import json\n",
    "import time"
   ]
  },
  {
   "cell_type": "code",
   "execution_count": 2,
   "metadata": {},
   "outputs": [],
   "source": [
    "# file paths\n",
    "\n",
    "input_path = '../data/input/'\n",
    "output_path = '../data/output/'"
   ]
  },
  {
   "cell_type": "code",
   "execution_count": 3,
   "metadata": {},
   "outputs": [],
   "source": [
    "headers = {'User-agent':'SomeDomStuff'}"
   ]
  },
  {
   "cell_type": "code",
   "execution_count": 4,
   "metadata": {},
   "outputs": [],
   "source": [
    "posts = []\n",
    "subs = []\n",
    "p_id = []\n",
    "text = []"
   ]
  },
  {
   "cell_type": "markdown",
   "metadata": {},
   "source": [
    "This function returns 25 posts per run. It will be ran twice along with the second cell to retrieve 5000 posts from each subreddit. "
   ]
  },
  {
   "cell_type": "code",
   "execution_count": 8,
   "metadata": {},
   "outputs": [],
   "source": [
    "# https://www.geeksforgeeks.org/args-kwargs-python/\n",
    "def get_submission(**kwargs):\n",
    "   # r = requests.get(\"https://api.pushshift.io/reddit/search/submission/?subreddit=PS4\",params=kwargs)\n",
    "    r = requests.get(\"https://api.pushshift.io/reddit/search/submission/?subreddit=XboxOne\",params=kwargs)\n",
    "        \n",
    "    data = r.json()\n",
    "    return data['data']"
   ]
  },
  {
   "cell_type": "code",
   "execution_count": 9,
   "metadata": {},
   "outputs": [],
   "source": [
    "before = None\n",
    "num_post = 200\n",
    "\n",
    "# Runs loop while number of collected post is under 5000 \n",
    "while num_post != 0:\n",
    "    submissions = get_submission(before=before,sort='desc',sort_type='created_utc')\n",
    "    if not submissions: break\n",
    "        \n",
    "    for submission in submissions:\n",
    "        before = submission['created_utc'] # This keeps track of position for the next call in the while loop\n",
    "\n",
    "        # append each comment object to its appropriate list\n",
    "        p_id.append(submission['id'])\n",
    "        subs.append(submission['subreddit'])\n",
    "        if 'selftext' in submission:\n",
    "            text.append(submission['selftext'])\n",
    "        else:\n",
    "            text.append('')\n",
    "        posts.append(submission['title'])\n",
    "\n",
    "\n",
    "    #time.sleep(1) # pauses for a second between each 25 request\n",
    "    time.sleep(.5)\n",
    "    num_post -= 1 # counts down for while loop"
   ]
  },
  {
   "cell_type": "code",
   "execution_count": 10,
   "metadata": {},
   "outputs": [
    {
     "name": "stdout",
     "output_type": "stream",
     "text": [
      "10000\n",
      "10000\n",
      "10000\n",
      "10000\n"
     ]
    }
   ],
   "source": [
    "# Checks number of commenet objects recived in list\n",
    "print(len(posts))\n",
    "print(len(subs))\n",
    "print(len(p_id))\n",
    "print(len(text))"
   ]
  },
  {
   "cell_type": "code",
   "execution_count": 11,
   "metadata": {},
   "outputs": [],
   "source": [
    "# Create data frame with columns of subreddit title, subreddit, and id\n",
    "df = pd.DataFrame({'title':posts,'selftext':text,'subreddit':subs,'id': p_id})"
   ]
  },
  {
   "cell_type": "code",
   "execution_count": 12,
   "metadata": {},
   "outputs": [
    {
     "data": {
      "text/plain": [
       "10000"
      ]
     },
     "execution_count": 12,
     "metadata": {},
     "output_type": "execute_result"
    }
   ],
   "source": [
    "# Check to make sure there are no repeated post collected\n",
    "len(df['id'].unique())"
   ]
  },
  {
   "cell_type": "code",
   "execution_count": 13,
   "metadata": {},
   "outputs": [],
   "source": [
    "# Create Binary y column based on subreddit name\n",
    "df['sub'] = df['subreddit'].map(lambda x: 1 if x == 'PS4'else 0)"
   ]
  },
  {
   "cell_type": "code",
   "execution_count": 14,
   "metadata": {},
   "outputs": [
    {
     "data": {
      "text/html": [
       "<div>\n",
       "<style scoped>\n",
       "    .dataframe tbody tr th:only-of-type {\n",
       "        vertical-align: middle;\n",
       "    }\n",
       "\n",
       "    .dataframe tbody tr th {\n",
       "        vertical-align: top;\n",
       "    }\n",
       "\n",
       "    .dataframe thead th {\n",
       "        text-align: right;\n",
       "    }\n",
       "</style>\n",
       "<table border=\"1\" class=\"dataframe\">\n",
       "  <thead>\n",
       "    <tr style=\"text-align: right;\">\n",
       "      <th></th>\n",
       "      <th>title</th>\n",
       "      <th>selftext</th>\n",
       "      <th>subreddit</th>\n",
       "      <th>id</th>\n",
       "      <th>sub</th>\n",
       "    </tr>\n",
       "  </thead>\n",
       "  <tbody>\n",
       "    <tr>\n",
       "      <th>0</th>\n",
       "      <td>Medievil Remake Pushing Base PS4 Hard</td>\n",
       "      <td>As a long time fan of the original I have some...</td>\n",
       "      <td>PS4</td>\n",
       "      <td>k6gxvi</td>\n",
       "      <td>1</td>\n",
       "    </tr>\n",
       "    <tr>\n",
       "      <th>1</th>\n",
       "      <td>Persona 5 Strikers to Release in the West on F...</td>\n",
       "      <td></td>\n",
       "      <td>PS4</td>\n",
       "      <td>k6gxei</td>\n",
       "      <td>1</td>\n",
       "    </tr>\n",
       "    <tr>\n",
       "      <th>2</th>\n",
       "      <td>Let's Be Friends - /r/PS4 Weekly Friend Finder...</td>\n",
       "      <td>**Weekly Friend Finder and LFG Thread** ([prev...</td>\n",
       "      <td>PS4</td>\n",
       "      <td>k6gp43</td>\n",
       "      <td>1</td>\n",
       "    </tr>\n",
       "    <tr>\n",
       "      <th>3</th>\n",
       "      <td>4 of u/Azlaars' incredible PS4 Exclusive poste...</td>\n",
       "      <td></td>\n",
       "      <td>PS4</td>\n",
       "      <td>k6gooa</td>\n",
       "      <td>1</td>\n",
       "    </tr>\n",
       "    <tr>\n",
       "      <th>4</th>\n",
       "      <td>Hi there,</td>\n",
       "      <td>[removed]</td>\n",
       "      <td>PS4</td>\n",
       "      <td>k6gj9z</td>\n",
       "      <td>1</td>\n",
       "    </tr>\n",
       "    <tr>\n",
       "      <th>...</th>\n",
       "      <td>...</td>\n",
       "      <td>...</td>\n",
       "      <td>...</td>\n",
       "      <td>...</td>\n",
       "      <td>...</td>\n",
       "    </tr>\n",
       "    <tr>\n",
       "      <th>9995</th>\n",
       "      <td>Keep playing on a really old 1080p TV and wait...</td>\n",
       "      <td>[deleted]</td>\n",
       "      <td>xboxone</td>\n",
       "      <td>juyrvx</td>\n",
       "      <td>0</td>\n",
       "    </tr>\n",
       "    <tr>\n",
       "      <th>9996</th>\n",
       "      <td>My Ford GT-40 controller stand</td>\n",
       "      <td>[deleted]</td>\n",
       "      <td>xboxone</td>\n",
       "      <td>juyrfk</td>\n",
       "      <td>0</td>\n",
       "    </tr>\n",
       "    <tr>\n",
       "      <th>9997</th>\n",
       "      <td>My home Xbox.</td>\n",
       "      <td>[removed]</td>\n",
       "      <td>xboxone</td>\n",
       "      <td>juyqxq</td>\n",
       "      <td>0</td>\n",
       "    </tr>\n",
       "    <tr>\n",
       "      <th>9998</th>\n",
       "      <td>Child restrictions enabled without me enabling...</td>\n",
       "      <td>[removed]</td>\n",
       "      <td>xboxone</td>\n",
       "      <td>juyp4p</td>\n",
       "      <td>0</td>\n",
       "    </tr>\n",
       "    <tr>\n",
       "      <th>9999</th>\n",
       "      <td>Update Xbox App on iOS. Can’t find tv remote o...</td>\n",
       "      <td>[removed]</td>\n",
       "      <td>xboxone</td>\n",
       "      <td>juyp4f</td>\n",
       "      <td>0</td>\n",
       "    </tr>\n",
       "  </tbody>\n",
       "</table>\n",
       "<p>10000 rows × 5 columns</p>\n",
       "</div>"
      ],
      "text/plain": [
       "                                                  title  \\\n",
       "0                 Medievil Remake Pushing Base PS4 Hard   \n",
       "1     Persona 5 Strikers to Release in the West on F...   \n",
       "2     Let's Be Friends - /r/PS4 Weekly Friend Finder...   \n",
       "3     4 of u/Azlaars' incredible PS4 Exclusive poste...   \n",
       "4                                             Hi there,   \n",
       "...                                                 ...   \n",
       "9995  Keep playing on a really old 1080p TV and wait...   \n",
       "9996                     My Ford GT-40 controller stand   \n",
       "9997                                      My home Xbox.   \n",
       "9998  Child restrictions enabled without me enabling...   \n",
       "9999  Update Xbox App on iOS. Can’t find tv remote o...   \n",
       "\n",
       "                                               selftext subreddit      id  sub  \n",
       "0     As a long time fan of the original I have some...       PS4  k6gxvi    1  \n",
       "1                                                             PS4  k6gxei    1  \n",
       "2     **Weekly Friend Finder and LFG Thread** ([prev...       PS4  k6gp43    1  \n",
       "3                                                             PS4  k6gooa    1  \n",
       "4                                             [removed]       PS4  k6gj9z    1  \n",
       "...                                                 ...       ...     ...  ...  \n",
       "9995                                          [deleted]   xboxone  juyrvx    0  \n",
       "9996                                          [deleted]   xboxone  juyrfk    0  \n",
       "9997                                          [removed]   xboxone  juyqxq    0  \n",
       "9998                                          [removed]   xboxone  juyp4p    0  \n",
       "9999                                          [removed]   xboxone  juyp4f    0  \n",
       "\n",
       "[10000 rows x 5 columns]"
      ]
     },
     "execution_count": 14,
     "metadata": {},
     "output_type": "execute_result"
    }
   ],
   "source": [
    "df"
   ]
  },
  {
   "cell_type": "code",
   "execution_count": 15,
   "metadata": {},
   "outputs": [
    {
     "data": {
      "text/html": [
       "<div>\n",
       "<style scoped>\n",
       "    .dataframe tbody tr th:only-of-type {\n",
       "        vertical-align: middle;\n",
       "    }\n",
       "\n",
       "    .dataframe tbody tr th {\n",
       "        vertical-align: top;\n",
       "    }\n",
       "\n",
       "    .dataframe thead th {\n",
       "        text-align: right;\n",
       "    }\n",
       "</style>\n",
       "<table border=\"1\" class=\"dataframe\">\n",
       "  <thead>\n",
       "    <tr style=\"text-align: right;\">\n",
       "      <th></th>\n",
       "      <th>sub</th>\n",
       "    </tr>\n",
       "  </thead>\n",
       "  <tbody>\n",
       "    <tr>\n",
       "      <th>count</th>\n",
       "      <td>10000.000000</td>\n",
       "    </tr>\n",
       "    <tr>\n",
       "      <th>mean</th>\n",
       "      <td>0.500000</td>\n",
       "    </tr>\n",
       "    <tr>\n",
       "      <th>std</th>\n",
       "      <td>0.500025</td>\n",
       "    </tr>\n",
       "    <tr>\n",
       "      <th>min</th>\n",
       "      <td>0.000000</td>\n",
       "    </tr>\n",
       "    <tr>\n",
       "      <th>25%</th>\n",
       "      <td>0.000000</td>\n",
       "    </tr>\n",
       "    <tr>\n",
       "      <th>50%</th>\n",
       "      <td>0.500000</td>\n",
       "    </tr>\n",
       "    <tr>\n",
       "      <th>75%</th>\n",
       "      <td>1.000000</td>\n",
       "    </tr>\n",
       "    <tr>\n",
       "      <th>max</th>\n",
       "      <td>1.000000</td>\n",
       "    </tr>\n",
       "  </tbody>\n",
       "</table>\n",
       "</div>"
      ],
      "text/plain": [
       "                sub\n",
       "count  10000.000000\n",
       "mean       0.500000\n",
       "std        0.500025\n",
       "min        0.000000\n",
       "25%        0.000000\n",
       "50%        0.500000\n",
       "75%        1.000000\n",
       "max        1.000000"
      ]
     },
     "execution_count": 15,
     "metadata": {},
     "output_type": "execute_result"
    }
   ],
   "source": [
    "df.describe()"
   ]
  },
  {
   "cell_type": "code",
   "execution_count": 16,
   "metadata": {},
   "outputs": [
    {
     "data": {
      "text/plain": [
       "title        object\n",
       "selftext     object\n",
       "subreddit    object\n",
       "id           object\n",
       "sub           int64\n",
       "dtype: object"
      ]
     },
     "execution_count": 16,
     "metadata": {},
     "output_type": "execute_result"
    }
   ],
   "source": [
    "df.dtypes"
   ]
  },
  {
   "cell_type": "code",
   "execution_count": 16,
   "metadata": {},
   "outputs": [
    {
     "data": {
      "text/plain": [
       "title        0\n",
       "selftext     0\n",
       "subreddit    0\n",
       "id           0\n",
       "sub          0\n",
       "dtype: int64"
      ]
     },
     "execution_count": 16,
     "metadata": {},
     "output_type": "execute_result"
    }
   ],
   "source": [
    "df.isnull().sum()"
   ]
  },
  {
   "cell_type": "code",
   "execution_count": 17,
   "metadata": {},
   "outputs": [
    {
     "data": {
      "text/plain": [
       "0"
      ]
     },
     "execution_count": 17,
     "metadata": {},
     "output_type": "execute_result"
    }
   ],
   "source": [
    "len(df[df['title']==''])"
   ]
  },
  {
   "cell_type": "code",
   "execution_count": 18,
   "metadata": {},
   "outputs": [
    {
     "data": {
      "text/plain": [
       "0       False\n",
       "1       False\n",
       "2       False\n",
       "3       False\n",
       "4       False\n",
       "        ...  \n",
       "9995    False\n",
       "9996    False\n",
       "9997    False\n",
       "9998    False\n",
       "9999    False\n",
       "Length: 10000, dtype: bool"
      ]
     },
     "execution_count": 18,
     "metadata": {},
     "output_type": "execute_result"
    }
   ],
   "source": [
    "df.duplicated()"
   ]
  },
  {
   "cell_type": "code",
   "execution_count": 19,
   "metadata": {},
   "outputs": [
    {
     "data": {
      "text/plain": [
       "xboxone    5000\n",
       "PS4        5000\n",
       "Name: subreddit, dtype: int64"
      ]
     },
     "execution_count": 19,
     "metadata": {},
     "output_type": "execute_result"
    }
   ],
   "source": [
    "df['subreddit'].value_counts()"
   ]
  },
  {
   "cell_type": "code",
   "execution_count": 20,
   "metadata": {},
   "outputs": [
    {
     "data": {
      "text/plain": [
       "0"
      ]
     },
     "execution_count": 20,
     "metadata": {},
     "output_type": "execute_result"
    }
   ],
   "source": [
    "# Checking for duplicated data\n",
    "df['id'].duplicated().sum()"
   ]
  },
  {
   "cell_type": "code",
   "execution_count": 21,
   "metadata": {},
   "outputs": [],
   "source": [
    "# Dropping any duplicated posts\n",
    "df_clean = df.drop_duplicates()"
   ]
  },
  {
   "cell_type": "code",
   "execution_count": 22,
   "metadata": {},
   "outputs": [
    {
     "data": {
      "text/plain": [
       "(10000, 5)"
      ]
     },
     "execution_count": 22,
     "metadata": {},
     "output_type": "execute_result"
    }
   ],
   "source": [
    "df_clean.shape"
   ]
  },
  {
   "cell_type": "code",
   "execution_count": 24,
   "metadata": {},
   "outputs": [],
   "source": [
    "# Save data frame to csv\n",
    "#df_clean.to_csv('reddit_data1.csv', index=False)"
   ]
  }
 ],
 "metadata": {
  "kernelspec": {
   "display_name": "Python 3",
   "language": "python",
   "name": "python3"
  },
  "language_info": {
   "codemirror_mode": {
    "name": "ipython",
    "version": 3
   },
   "file_extension": ".py",
   "mimetype": "text/x-python",
   "name": "python",
   "nbconvert_exporter": "python",
   "pygments_lexer": "ipython3",
   "version": "3.8.3"
  }
 },
 "nbformat": 4,
 "nbformat_minor": 4
}
