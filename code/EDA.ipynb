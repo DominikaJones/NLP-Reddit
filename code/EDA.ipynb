{
 "cells": [
  {
   "cell_type": "markdown",
   "metadata": {},
   "source": [
    "# Project 3: Web API's & NLP"
   ]
  },
  {
   "cell_type": "markdown",
   "metadata": {},
   "source": [
    "## Data Cleaning and EDA"
   ]
  },
  {
   "cell_type": "code",
   "execution_count": 2,
   "metadata": {},
   "outputs": [],
   "source": [
    "import pandas as pd\n",
    "import numpy as np\n",
    "import seaborn as sns\n",
    "sns.set_style('whitegrid')\n",
    "import matplotlib.pyplot as plt\n",
    "import nltk\n",
    "from nltk.stem import WordNetLemmatizer\n",
    "from nltk.tokenize import RegexpTokenizer\n",
    "from nltk.corpus import stopwords\n",
    "from sklearn.feature_extraction.text import CountVectorizer\n",
    "from sklearn.feature_extraction import text "
   ]
  },
  {
   "cell_type": "code",
   "execution_count": 3,
   "metadata": {},
   "outputs": [],
   "source": [
    "df = pd.read_csv('../data/reddit_data.csv')"
   ]
  },
  {
   "cell_type": "code",
   "execution_count": 4,
   "metadata": {},
   "outputs": [
    {
     "data": {
      "text/plain": [
       "(10000, 5)"
      ]
     },
     "execution_count": 4,
     "metadata": {},
     "output_type": "execute_result"
    }
   ],
   "source": [
    "df.shape"
   ]
  },
  {
   "cell_type": "code",
   "execution_count": 5,
   "metadata": {},
   "outputs": [
    {
     "data": {
      "text/html": [
       "<div>\n",
       "<style scoped>\n",
       "    .dataframe tbody tr th:only-of-type {\n",
       "        vertical-align: middle;\n",
       "    }\n",
       "\n",
       "    .dataframe tbody tr th {\n",
       "        vertical-align: top;\n",
       "    }\n",
       "\n",
       "    .dataframe thead th {\n",
       "        text-align: right;\n",
       "    }\n",
       "</style>\n",
       "<table border=\"1\" class=\"dataframe\">\n",
       "  <thead>\n",
       "    <tr style=\"text-align: right;\">\n",
       "      <th></th>\n",
       "      <th>title</th>\n",
       "      <th>selftext</th>\n",
       "      <th>subreddit</th>\n",
       "      <th>id</th>\n",
       "      <th>y</th>\n",
       "    </tr>\n",
       "  </thead>\n",
       "  <tbody>\n",
       "    <tr>\n",
       "      <th>0</th>\n",
       "      <td>How to sync controller after Xbox breaks down?</td>\n",
       "      <td>[removed]</td>\n",
       "      <td>xboxone</td>\n",
       "      <td>k4t96k</td>\n",
       "      <td>0</td>\n",
       "    </tr>\n",
       "    <tr>\n",
       "      <th>1</th>\n",
       "      <td>Curious if using game sharing on the Xbox one ...</td>\n",
       "      <td>My brother lives in Massachusetts and I recent...</td>\n",
       "      <td>xboxone</td>\n",
       "      <td>k4t93z</td>\n",
       "      <td>0</td>\n",
       "    </tr>\n",
       "    <tr>\n",
       "      <th>2</th>\n",
       "      <td>Name Change: Untaken Name Unavailable</td>\n",
       "      <td>I was trying to transfer a name (from my secon...</td>\n",
       "      <td>xboxone</td>\n",
       "      <td>k4t7f8</td>\n",
       "      <td>0</td>\n",
       "    </tr>\n",
       "    <tr>\n",
       "      <th>3</th>\n",
       "      <td>Xbox game pass ultimate 14 day free trial codes</td>\n",
       "      <td>NaN</td>\n",
       "      <td>xboxone</td>\n",
       "      <td>k4t40s</td>\n",
       "      <td>0</td>\n",
       "    </tr>\n",
       "    <tr>\n",
       "      <th>4</th>\n",
       "      <td>Leaving Gamepass December 15</td>\n",
       "      <td>Leaving December 11\\n\\n* eFootball PES 2020 (C...</td>\n",
       "      <td>xboxone</td>\n",
       "      <td>k4sv6t</td>\n",
       "      <td>0</td>\n",
       "    </tr>\n",
       "  </tbody>\n",
       "</table>\n",
       "</div>"
      ],
      "text/plain": [
       "                                               title  \\\n",
       "0     How to sync controller after Xbox breaks down?   \n",
       "1  Curious if using game sharing on the Xbox one ...   \n",
       "2              Name Change: Untaken Name Unavailable   \n",
       "3    Xbox game pass ultimate 14 day free trial codes   \n",
       "4                       Leaving Gamepass December 15   \n",
       "\n",
       "                                            selftext subreddit      id  y  \n",
       "0                                          [removed]   xboxone  k4t96k  0  \n",
       "1  My brother lives in Massachusetts and I recent...   xboxone  k4t93z  0  \n",
       "2  I was trying to transfer a name (from my secon...   xboxone  k4t7f8  0  \n",
       "3                                                NaN   xboxone  k4t40s  0  \n",
       "4  Leaving December 11\\n\\n* eFootball PES 2020 (C...   xboxone  k4sv6t  0  "
      ]
     },
     "execution_count": 5,
     "metadata": {},
     "output_type": "execute_result"
    }
   ],
   "source": [
    "df.head()"
   ]
  },
  {
   "cell_type": "code",
   "execution_count": 6,
   "metadata": {},
   "outputs": [
    {
     "data": {
      "text/plain": [
       "title           0\n",
       "selftext     3110\n",
       "subreddit       0\n",
       "id              0\n",
       "y               0\n",
       "dtype: int64"
      ]
     },
     "execution_count": 6,
     "metadata": {},
     "output_type": "execute_result"
    }
   ],
   "source": [
    "df.isnull().sum()"
   ]
  },
  {
   "cell_type": "markdown",
   "metadata": {},
   "source": [
    "Since I noticed right away that some cells in selftext column included [removed], I would need to deal with them along with the 3110 null values by combining title and selftext into one column 'text' as self text still included valuable data. "
   ]
  },
  {
   "cell_type": "code",
   "execution_count": 7,
   "metadata": {},
   "outputs": [
    {
     "data": {
      "text/plain": [
       "1339"
      ]
     },
     "execution_count": 7,
     "metadata": {},
     "output_type": "execute_result"
    }
   ],
   "source": [
    "len(df[df['selftext']=='[removed]'])"
   ]
  },
  {
   "cell_type": "code",
   "execution_count": 8,
   "metadata": {},
   "outputs": [],
   "source": [
    "df.fillna(' ', inplace=True)"
   ]
  },
  {
   "cell_type": "code",
   "execution_count": 9,
   "metadata": {},
   "outputs": [],
   "source": [
    "df['selftext'].replace('[removed]', '', inplace=True)"
   ]
  },
  {
   "cell_type": "code",
   "execution_count": 10,
   "metadata": {},
   "outputs": [],
   "source": [
    "df['text'] = df['title'].str.cat(df['selftext'], sep=\" \")"
   ]
  },
  {
   "cell_type": "code",
   "execution_count": 11,
   "metadata": {},
   "outputs": [
    {
     "data": {
      "text/html": [
       "<div>\n",
       "<style scoped>\n",
       "    .dataframe tbody tr th:only-of-type {\n",
       "        vertical-align: middle;\n",
       "    }\n",
       "\n",
       "    .dataframe tbody tr th {\n",
       "        vertical-align: top;\n",
       "    }\n",
       "\n",
       "    .dataframe thead th {\n",
       "        text-align: right;\n",
       "    }\n",
       "</style>\n",
       "<table border=\"1\" class=\"dataframe\">\n",
       "  <thead>\n",
       "    <tr style=\"text-align: right;\">\n",
       "      <th></th>\n",
       "      <th>title</th>\n",
       "      <th>selftext</th>\n",
       "      <th>subreddit</th>\n",
       "      <th>id</th>\n",
       "      <th>y</th>\n",
       "      <th>text</th>\n",
       "    </tr>\n",
       "  </thead>\n",
       "  <tbody>\n",
       "    <tr>\n",
       "      <th>0</th>\n",
       "      <td>How to sync controller after Xbox breaks down?</td>\n",
       "      <td></td>\n",
       "      <td>xboxone</td>\n",
       "      <td>k4t96k</td>\n",
       "      <td>0</td>\n",
       "      <td>How to sync controller after Xbox breaks down?</td>\n",
       "    </tr>\n",
       "    <tr>\n",
       "      <th>1</th>\n",
       "      <td>Curious if using game sharing on the Xbox one ...</td>\n",
       "      <td>My brother lives in Massachusetts and I recent...</td>\n",
       "      <td>xboxone</td>\n",
       "      <td>k4t93z</td>\n",
       "      <td>0</td>\n",
       "      <td>Curious if using game sharing on the Xbox one ...</td>\n",
       "    </tr>\n",
       "    <tr>\n",
       "      <th>2</th>\n",
       "      <td>Name Change: Untaken Name Unavailable</td>\n",
       "      <td>I was trying to transfer a name (from my secon...</td>\n",
       "      <td>xboxone</td>\n",
       "      <td>k4t7f8</td>\n",
       "      <td>0</td>\n",
       "      <td>Name Change: Untaken Name Unavailable I was tr...</td>\n",
       "    </tr>\n",
       "    <tr>\n",
       "      <th>3</th>\n",
       "      <td>Xbox game pass ultimate 14 day free trial codes</td>\n",
       "      <td></td>\n",
       "      <td>xboxone</td>\n",
       "      <td>k4t40s</td>\n",
       "      <td>0</td>\n",
       "      <td>Xbox game pass ultimate 14 day free trial codes</td>\n",
       "    </tr>\n",
       "    <tr>\n",
       "      <th>4</th>\n",
       "      <td>Leaving Gamepass December 15</td>\n",
       "      <td>Leaving December 11\\n\\n* eFootball PES 2020 (C...</td>\n",
       "      <td>xboxone</td>\n",
       "      <td>k4sv6t</td>\n",
       "      <td>0</td>\n",
       "      <td>Leaving Gamepass December 15 Leaving December ...</td>\n",
       "    </tr>\n",
       "  </tbody>\n",
       "</table>\n",
       "</div>"
      ],
      "text/plain": [
       "                                               title  \\\n",
       "0     How to sync controller after Xbox breaks down?   \n",
       "1  Curious if using game sharing on the Xbox one ...   \n",
       "2              Name Change: Untaken Name Unavailable   \n",
       "3    Xbox game pass ultimate 14 day free trial codes   \n",
       "4                       Leaving Gamepass December 15   \n",
       "\n",
       "                                            selftext subreddit      id  y  \\\n",
       "0                                                      xboxone  k4t96k  0   \n",
       "1  My brother lives in Massachusetts and I recent...   xboxone  k4t93z  0   \n",
       "2  I was trying to transfer a name (from my secon...   xboxone  k4t7f8  0   \n",
       "3                                                      xboxone  k4t40s  0   \n",
       "4  Leaving December 11\\n\\n* eFootball PES 2020 (C...   xboxone  k4sv6t  0   \n",
       "\n",
       "                                                text  \n",
       "0    How to sync controller after Xbox breaks down?   \n",
       "1  Curious if using game sharing on the Xbox one ...  \n",
       "2  Name Change: Untaken Name Unavailable I was tr...  \n",
       "3  Xbox game pass ultimate 14 day free trial codes    \n",
       "4  Leaving Gamepass December 15 Leaving December ...  "
      ]
     },
     "execution_count": 11,
     "metadata": {},
     "output_type": "execute_result"
    }
   ],
   "source": [
    "df.head()"
   ]
  },
  {
   "cell_type": "markdown",
   "metadata": {},
   "source": [
    "Now that we have all the data we need, we can drop the remaining columns. "
   ]
  },
  {
   "cell_type": "code",
   "execution_count": 12,
   "metadata": {},
   "outputs": [],
   "source": [
    "df2 = df.drop(columns=['title','selftext', 'id'])"
   ]
  },
  {
   "cell_type": "code",
   "execution_count": 13,
   "metadata": {},
   "outputs": [
    {
     "data": {
      "text/html": [
       "<div>\n",
       "<style scoped>\n",
       "    .dataframe tbody tr th:only-of-type {\n",
       "        vertical-align: middle;\n",
       "    }\n",
       "\n",
       "    .dataframe tbody tr th {\n",
       "        vertical-align: top;\n",
       "    }\n",
       "\n",
       "    .dataframe thead th {\n",
       "        text-align: right;\n",
       "    }\n",
       "</style>\n",
       "<table border=\"1\" class=\"dataframe\">\n",
       "  <thead>\n",
       "    <tr style=\"text-align: right;\">\n",
       "      <th></th>\n",
       "      <th>subreddit</th>\n",
       "      <th>y</th>\n",
       "      <th>text</th>\n",
       "    </tr>\n",
       "  </thead>\n",
       "  <tbody>\n",
       "    <tr>\n",
       "      <th>0</th>\n",
       "      <td>xboxone</td>\n",
       "      <td>0</td>\n",
       "      <td>How to sync controller after Xbox breaks down?</td>\n",
       "    </tr>\n",
       "    <tr>\n",
       "      <th>1</th>\n",
       "      <td>xboxone</td>\n",
       "      <td>0</td>\n",
       "      <td>Curious if using game sharing on the Xbox one ...</td>\n",
       "    </tr>\n",
       "    <tr>\n",
       "      <th>2</th>\n",
       "      <td>xboxone</td>\n",
       "      <td>0</td>\n",
       "      <td>Name Change: Untaken Name Unavailable I was tr...</td>\n",
       "    </tr>\n",
       "    <tr>\n",
       "      <th>3</th>\n",
       "      <td>xboxone</td>\n",
       "      <td>0</td>\n",
       "      <td>Xbox game pass ultimate 14 day free trial codes</td>\n",
       "    </tr>\n",
       "    <tr>\n",
       "      <th>4</th>\n",
       "      <td>xboxone</td>\n",
       "      <td>0</td>\n",
       "      <td>Leaving Gamepass December 15 Leaving December ...</td>\n",
       "    </tr>\n",
       "  </tbody>\n",
       "</table>\n",
       "</div>"
      ],
      "text/plain": [
       "  subreddit  y                                               text\n",
       "0   xboxone  0    How to sync controller after Xbox breaks down? \n",
       "1   xboxone  0  Curious if using game sharing on the Xbox one ...\n",
       "2   xboxone  0  Name Change: Untaken Name Unavailable I was tr...\n",
       "3   xboxone  0  Xbox game pass ultimate 14 day free trial codes  \n",
       "4   xboxone  0  Leaving Gamepass December 15 Leaving December ..."
      ]
     },
     "execution_count": 13,
     "metadata": {},
     "output_type": "execute_result"
    }
   ],
   "source": [
    "df2.head()"
   ]
  },
  {
   "cell_type": "code",
   "execution_count": 14,
   "metadata": {},
   "outputs": [
    {
     "data": {
      "text/plain": [
       "subreddit    0\n",
       "y            0\n",
       "text         0\n",
       "dtype: int64"
      ]
     },
     "execution_count": 14,
     "metadata": {},
     "output_type": "execute_result"
    }
   ],
   "source": [
    "df2.isnull().sum()"
   ]
  },
  {
   "cell_type": "code",
   "execution_count": 15,
   "metadata": {},
   "outputs": [
    {
     "data": {
      "text/plain": [
       "'Audio problem Recently, I bought an Xbox from a friend. My old Xbox would not play audio through my monitor, but the new Xbox does. They are both Xbox one s models. Any idea how to only play volume through the headset and not the monitor?'"
      ]
     },
     "execution_count": 15,
     "metadata": {},
     "output_type": "execute_result"
    }
   ],
   "source": [
    "# Checking random row\n",
    "\n",
    "df2['text'][1000]"
   ]
  },
  {
   "cell_type": "code",
   "execution_count": 16,
   "metadata": {},
   "outputs": [
    {
     "data": {
      "text/plain": [
       "'PS4 slim turning off/crashes whenever opening game I start any game and it stays frozen for about 1:30 minutes then the TV says no signal but the console still has the white light on but then that shuts off aswell. Could this be the fan being to dirty/dusty or what? Any help is appreciated.'"
      ]
     },
     "execution_count": 16,
     "metadata": {},
     "output_type": "execute_result"
    }
   ],
   "source": [
    "df2['text'][7000]"
   ]
  },
  {
   "cell_type": "markdown",
   "metadata": {},
   "source": [
    "This function will collect words only and lemmatize them. "
   ]
  },
  {
   "cell_type": "code",
   "execution_count": 17,
   "metadata": {},
   "outputs": [],
   "source": [
    "# Collect words only \n",
    "\n",
    "toke = RegexpTokenizer('\\w+') \n",
    "lem = WordNetLemmatizer()     # lemmatize words\n",
    "\n",
    "def text_prep(text):\n",
    "    token = toke.tokenize(text.lower()) \n",
    "    stop = [word for word in token if not word in stopwords.words('english')]\n",
    "    lemm = [lem.lemmatize(i) for i in stop]\n",
    "    msg =\" \".join(lemm)\n",
    "    return msg"
   ]
  },
  {
   "cell_type": "code",
   "execution_count": 18,
   "metadata": {},
   "outputs": [],
   "source": [
    "# Cleans review string, then appends to clean_posts.\n",
    "posts_list = []\n",
    "\n",
    "for row in range(len(df2)):\n",
    "    posts_list.append(text_prep(df2['text'][row]))"
   ]
  },
  {
   "cell_type": "code",
   "execution_count": 23,
   "metadata": {},
   "outputs": [
    {
     "data": {
      "text/html": [
       "<div>\n",
       "<style scoped>\n",
       "    .dataframe tbody tr th:only-of-type {\n",
       "        vertical-align: middle;\n",
       "    }\n",
       "\n",
       "    .dataframe tbody tr th {\n",
       "        vertical-align: top;\n",
       "    }\n",
       "\n",
       "    .dataframe thead th {\n",
       "        text-align: right;\n",
       "    }\n",
       "</style>\n",
       "<table border=\"1\" class=\"dataframe\">\n",
       "  <thead>\n",
       "    <tr style=\"text-align: right;\">\n",
       "      <th></th>\n",
       "      <th>text</th>\n",
       "      <th>subreddit</th>\n",
       "      <th>y</th>\n",
       "      <th>text_length</th>\n",
       "    </tr>\n",
       "  </thead>\n",
       "  <tbody>\n",
       "    <tr>\n",
       "      <th>0</th>\n",
       "      <td>How to sync controller after Xbox breaks down?</td>\n",
       "      <td>xboxone</td>\n",
       "      <td>0</td>\n",
       "      <td>47</td>\n",
       "    </tr>\n",
       "    <tr>\n",
       "      <th>1</th>\n",
       "      <td>Curious if using game sharing on the Xbox one ...</td>\n",
       "      <td>xboxone</td>\n",
       "      <td>0</td>\n",
       "      <td>461</td>\n",
       "    </tr>\n",
       "    <tr>\n",
       "      <th>2</th>\n",
       "      <td>Name Change: Untaken Name Unavailable I was tr...</td>\n",
       "      <td>xboxone</td>\n",
       "      <td>0</td>\n",
       "      <td>461</td>\n",
       "    </tr>\n",
       "    <tr>\n",
       "      <th>3</th>\n",
       "      <td>Xbox game pass ultimate 14 day free trial codes</td>\n",
       "      <td>xboxone</td>\n",
       "      <td>0</td>\n",
       "      <td>49</td>\n",
       "    </tr>\n",
       "    <tr>\n",
       "      <th>4</th>\n",
       "      <td>Leaving Gamepass December 15 Leaving December ...</td>\n",
       "      <td>xboxone</td>\n",
       "      <td>0</td>\n",
       "      <td>505</td>\n",
       "    </tr>\n",
       "  </tbody>\n",
       "</table>\n",
       "</div>"
      ],
      "text/plain": [
       "                                                text subreddit  y  text_length\n",
       "0    How to sync controller after Xbox breaks down?    xboxone  0           47\n",
       "1  Curious if using game sharing on the Xbox one ...   xboxone  0          461\n",
       "2  Name Change: Untaken Name Unavailable I was tr...   xboxone  0          461\n",
       "3  Xbox game pass ultimate 14 day free trial codes     xboxone  0           49\n",
       "4  Leaving Gamepass December 15 Leaving December ...   xboxone  0          505"
      ]
     },
     "execution_count": 23,
     "metadata": {},
     "output_type": "execute_result"
    }
   ],
   "source": [
    "df2.head()"
   ]
  },
  {
   "cell_type": "code",
   "execution_count": 24,
   "metadata": {},
   "outputs": [],
   "source": [
    "df2 = df2[['text', 'subreddit', 'y']]"
   ]
  },
  {
   "cell_type": "code",
   "execution_count": 25,
   "metadata": {},
   "outputs": [
    {
     "data": {
      "text/html": [
       "<div>\n",
       "<style scoped>\n",
       "    .dataframe tbody tr th:only-of-type {\n",
       "        vertical-align: middle;\n",
       "    }\n",
       "\n",
       "    .dataframe tbody tr th {\n",
       "        vertical-align: top;\n",
       "    }\n",
       "\n",
       "    .dataframe thead th {\n",
       "        text-align: right;\n",
       "    }\n",
       "</style>\n",
       "<table border=\"1\" class=\"dataframe\">\n",
       "  <thead>\n",
       "    <tr style=\"text-align: right;\">\n",
       "      <th></th>\n",
       "      <th>text</th>\n",
       "      <th>subreddit</th>\n",
       "      <th>y</th>\n",
       "    </tr>\n",
       "  </thead>\n",
       "  <tbody>\n",
       "    <tr>\n",
       "      <th>0</th>\n",
       "      <td>How to sync controller after Xbox breaks down?</td>\n",
       "      <td>xboxone</td>\n",
       "      <td>0</td>\n",
       "    </tr>\n",
       "    <tr>\n",
       "      <th>1</th>\n",
       "      <td>Curious if using game sharing on the Xbox one ...</td>\n",
       "      <td>xboxone</td>\n",
       "      <td>0</td>\n",
       "    </tr>\n",
       "    <tr>\n",
       "      <th>2</th>\n",
       "      <td>Name Change: Untaken Name Unavailable I was tr...</td>\n",
       "      <td>xboxone</td>\n",
       "      <td>0</td>\n",
       "    </tr>\n",
       "    <tr>\n",
       "      <th>3</th>\n",
       "      <td>Xbox game pass ultimate 14 day free trial codes</td>\n",
       "      <td>xboxone</td>\n",
       "      <td>0</td>\n",
       "    </tr>\n",
       "    <tr>\n",
       "      <th>4</th>\n",
       "      <td>Leaving Gamepass December 15 Leaving December ...</td>\n",
       "      <td>xboxone</td>\n",
       "      <td>0</td>\n",
       "    </tr>\n",
       "  </tbody>\n",
       "</table>\n",
       "</div>"
      ],
      "text/plain": [
       "                                                text subreddit  y\n",
       "0    How to sync controller after Xbox breaks down?    xboxone  0\n",
       "1  Curious if using game sharing on the Xbox one ...   xboxone  0\n",
       "2  Name Change: Untaken Name Unavailable I was tr...   xboxone  0\n",
       "3  Xbox game pass ultimate 14 day free trial codes     xboxone  0\n",
       "4  Leaving Gamepass December 15 Leaving December ...   xboxone  0"
      ]
     },
     "execution_count": 25,
     "metadata": {},
     "output_type": "execute_result"
    }
   ],
   "source": [
    "df2.head()"
   ]
  },
  {
   "cell_type": "code",
   "execution_count": 26,
   "metadata": {},
   "outputs": [],
   "source": [
    "# create a text length column \n",
    "df2['text_length'] = df2['text'].map(len)"
   ]
  },
  {
   "cell_type": "code",
   "execution_count": 27,
   "metadata": {},
   "outputs": [],
   "source": [
    "# create a word count in the text length column \n",
    "df2['text_word_count'] = df2['text'].map(lambda x: len(x.split()))"
   ]
  },
  {
   "cell_type": "code",
   "execution_count": 28,
   "metadata": {},
   "outputs": [
    {
     "data": {
      "text/html": [
       "<div>\n",
       "<style scoped>\n",
       "    .dataframe tbody tr th:only-of-type {\n",
       "        vertical-align: middle;\n",
       "    }\n",
       "\n",
       "    .dataframe tbody tr th {\n",
       "        vertical-align: top;\n",
       "    }\n",
       "\n",
       "    .dataframe thead th {\n",
       "        text-align: right;\n",
       "    }\n",
       "</style>\n",
       "<table border=\"1\" class=\"dataframe\">\n",
       "  <thead>\n",
       "    <tr style=\"text-align: right;\">\n",
       "      <th></th>\n",
       "      <th>text</th>\n",
       "      <th>subreddit</th>\n",
       "      <th>y</th>\n",
       "      <th>text_length</th>\n",
       "      <th>text_word_count</th>\n",
       "    </tr>\n",
       "  </thead>\n",
       "  <tbody>\n",
       "    <tr>\n",
       "      <th>0</th>\n",
       "      <td>How to sync controller after Xbox breaks down?</td>\n",
       "      <td>xboxone</td>\n",
       "      <td>0</td>\n",
       "      <td>47</td>\n",
       "      <td>8</td>\n",
       "    </tr>\n",
       "    <tr>\n",
       "      <th>1</th>\n",
       "      <td>Curious if using game sharing on the Xbox one ...</td>\n",
       "      <td>xboxone</td>\n",
       "      <td>0</td>\n",
       "      <td>461</td>\n",
       "      <td>93</td>\n",
       "    </tr>\n",
       "    <tr>\n",
       "      <th>2</th>\n",
       "      <td>Name Change: Untaken Name Unavailable I was tr...</td>\n",
       "      <td>xboxone</td>\n",
       "      <td>0</td>\n",
       "      <td>461</td>\n",
       "      <td>87</td>\n",
       "    </tr>\n",
       "    <tr>\n",
       "      <th>3</th>\n",
       "      <td>Xbox game pass ultimate 14 day free trial codes</td>\n",
       "      <td>xboxone</td>\n",
       "      <td>0</td>\n",
       "      <td>49</td>\n",
       "      <td>9</td>\n",
       "    </tr>\n",
       "    <tr>\n",
       "      <th>4</th>\n",
       "      <td>Leaving Gamepass December 15 Leaving December ...</td>\n",
       "      <td>xboxone</td>\n",
       "      <td>0</td>\n",
       "      <td>505</td>\n",
       "      <td>70</td>\n",
       "    </tr>\n",
       "  </tbody>\n",
       "</table>\n",
       "</div>"
      ],
      "text/plain": [
       "                                                text subreddit  y  \\\n",
       "0    How to sync controller after Xbox breaks down?    xboxone  0   \n",
       "1  Curious if using game sharing on the Xbox one ...   xboxone  0   \n",
       "2  Name Change: Untaken Name Unavailable I was tr...   xboxone  0   \n",
       "3  Xbox game pass ultimate 14 day free trial codes     xboxone  0   \n",
       "4  Leaving Gamepass December 15 Leaving December ...   xboxone  0   \n",
       "\n",
       "   text_length  text_word_count  \n",
       "0           47                8  \n",
       "1          461               93  \n",
       "2          461               87  \n",
       "3           49                9  \n",
       "4          505               70  "
      ]
     },
     "execution_count": 28,
     "metadata": {},
     "output_type": "execute_result"
    }
   ],
   "source": [
    "df2.head()"
   ]
  },
  {
   "cell_type": "code",
   "execution_count": 29,
   "metadata": {},
   "outputs": [
    {
     "data": {
      "text/html": [
       "<div>\n",
       "<style scoped>\n",
       "    .dataframe tbody tr th:only-of-type {\n",
       "        vertical-align: middle;\n",
       "    }\n",
       "\n",
       "    .dataframe tbody tr th {\n",
       "        vertical-align: top;\n",
       "    }\n",
       "\n",
       "    .dataframe thead th {\n",
       "        text-align: right;\n",
       "    }\n",
       "</style>\n",
       "<table border=\"1\" class=\"dataframe\">\n",
       "  <thead>\n",
       "    <tr style=\"text-align: right;\">\n",
       "      <th></th>\n",
       "      <th>text</th>\n",
       "      <th>text_word_count</th>\n",
       "    </tr>\n",
       "  </thead>\n",
       "  <tbody>\n",
       "    <tr>\n",
       "      <th>7960</th>\n",
       "      <td>VenturesForYou</td>\n",
       "      <td>1</td>\n",
       "    </tr>\n",
       "    <tr>\n",
       "      <th>945</th>\n",
       "      <td>Wolf-Kissed</td>\n",
       "      <td>1</td>\n",
       "    </tr>\n",
       "    <tr>\n",
       "      <th>7431</th>\n",
       "      <td>High</td>\n",
       "      <td>1</td>\n",
       "    </tr>\n",
       "    <tr>\n",
       "      <th>3558</th>\n",
       "      <td>Help!</td>\n",
       "      <td>1</td>\n",
       "    </tr>\n",
       "    <tr>\n",
       "      <th>3086</th>\n",
       "      <td>Modded</td>\n",
       "      <td>1</td>\n",
       "    </tr>\n",
       "  </tbody>\n",
       "</table>\n",
       "</div>"
      ],
      "text/plain": [
       "                 text  text_word_count\n",
       "7960  VenturesForYou                 1\n",
       "945     Wolf-Kissed                  1\n",
       "7431           High                  1\n",
       "3558           Help!                 1\n",
       "3086         Modded                  1"
      ]
     },
     "execution_count": 29,
     "metadata": {},
     "output_type": "execute_result"
    }
   ],
   "source": [
    "df2.sort_values(by='text_word_count', ascending=True)[['text','text_word_count']].head()"
   ]
  },
  {
   "cell_type": "code",
   "execution_count": 30,
   "metadata": {},
   "outputs": [
    {
     "data": {
      "text/html": [
       "<div>\n",
       "<style scoped>\n",
       "    .dataframe tbody tr th:only-of-type {\n",
       "        vertical-align: middle;\n",
       "    }\n",
       "\n",
       "    .dataframe tbody tr th {\n",
       "        vertical-align: top;\n",
       "    }\n",
       "\n",
       "    .dataframe thead th {\n",
       "        text-align: right;\n",
       "    }\n",
       "</style>\n",
       "<table border=\"1\" class=\"dataframe\">\n",
       "  <thead>\n",
       "    <tr style=\"text-align: right;\">\n",
       "      <th></th>\n",
       "      <th>text</th>\n",
       "      <th>text_word_count</th>\n",
       "    </tr>\n",
       "  </thead>\n",
       "  <tbody>\n",
       "    <tr>\n",
       "      <th>8824</th>\n",
       "      <td>10 More Overlooked Single Player Indie Games [...</td>\n",
       "      <td>2765</td>\n",
       "    </tr>\n",
       "    <tr>\n",
       "      <th>1981</th>\n",
       "      <td>How good is Gamepass? A quantitative analysis ...</td>\n",
       "      <td>1274</td>\n",
       "    </tr>\n",
       "    <tr>\n",
       "      <th>7031</th>\n",
       "      <td>Battlefield 6 Hello friends, how are you all?\\...</td>\n",
       "      <td>1054</td>\n",
       "    </tr>\n",
       "    <tr>\n",
       "      <th>7994</th>\n",
       "      <td>Black Ops Cold War Review And Thoughts! &amp;gt;! ...</td>\n",
       "      <td>907</td>\n",
       "    </tr>\n",
       "    <tr>\n",
       "      <th>3423</th>\n",
       "      <td>One week with Xbox, my first impressions!!! \\n...</td>\n",
       "      <td>893</td>\n",
       "    </tr>\n",
       "  </tbody>\n",
       "</table>\n",
       "</div>"
      ],
      "text/plain": [
       "                                                   text  text_word_count\n",
       "8824  10 More Overlooked Single Player Indie Games [...             2765\n",
       "1981  How good is Gamepass? A quantitative analysis ...             1274\n",
       "7031  Battlefield 6 Hello friends, how are you all?\\...             1054\n",
       "7994  Black Ops Cold War Review And Thoughts! &gt;! ...              907\n",
       "3423  One week with Xbox, my first impressions!!! \\n...              893"
      ]
     },
     "execution_count": 30,
     "metadata": {},
     "output_type": "execute_result"
    }
   ],
   "source": [
    "df2.sort_values(by='text_word_count', ascending=False)[['text','text_word_count']].head()"
   ]
  },
  {
   "cell_type": "code",
   "execution_count": 31,
   "metadata": {},
   "outputs": [
    {
     "data": {
      "image/png": "[encoded data removed]",
      "text/plain": [
       "<Figure size 648x504 with 1 Axes>"
      ]
     },
     "metadata": {},
     "output_type": "display_data"
    }
   ],
   "source": [
    "plt.figure(figsize=(9,7))\n",
    "sns.histplot(df2['text_word_count'], kde=False, bins=10)\n",
    "plt.ylabel(\"Frequency\", size=15)\n",
    "plt.title('Text Word Count Distribution)', size=20)\n",
    "plt.xlabel(\"Text Word Count\", size=15);"
   ]
  },
  {
   "cell_type": "code",
   "execution_count": 32,
   "metadata": {},
   "outputs": [
    {
     "data": {
      "image/png": "[encoded data removed]",
      "text/plain": [
       "<Figure size 648x504 with 1 Axes>"
      ]
     },
     "metadata": {},
     "output_type": "display_data"
    }
   ],
   "source": [
    "plt.figure(figsize=(9,7))\n",
    "sns.histplot(df2['text_length'], bins=10)\n",
    "plt.ylabel(\"Frequency\", size=15)\n",
    "plt.title('Text length Distribution', size=20)\n",
    "plt.xlabel(\"Text length\", size=15);"
   ]
  },
  {
   "cell_type": "markdown",
   "metadata": {},
   "source": [
    "Both subreddits have the same text lenght distribution"
   ]
  },
  {
   "cell_type": "code",
   "execution_count": 33,
   "metadata": {},
   "outputs": [],
   "source": [
    "PS4_mean = df2[df2['y'] == 1]['text_length'].mean()\n",
    "XboxOne_mean = df2[df2['y'] == 0]['text_length'].mean()"
   ]
  },
  {
   "cell_type": "code",
   "execution_count": 34,
   "metadata": {},
   "outputs": [
    {
     "name": "stdout",
     "output_type": "stream",
     "text": [
      "PS4 text length mean count: 270.83\n",
      "XboxOne text length mean count: 221.96\n"
     ]
    }
   ],
   "source": [
    "print(f'PS4 text length mean count: {round(PS4_mean,2)}')\n",
    "print(f'XboxOne text length mean count: {round(XboxOne_mean,2)}')"
   ]
  },
  {
   "cell_type": "code",
   "execution_count": 35,
   "metadata": {},
   "outputs": [],
   "source": [
    "\n",
    "xbox_mask = (df2['y'] == 0) & (df2['text_length'] < 5000)\n",
    "ps_mask = (df2['y'] == 1) & (df2['text_length'] < 5000)"
   ]
  },
  {
   "cell_type": "code",
   "execution_count": 36,
   "metadata": {},
   "outputs": [
    {
     "data": {
      "image/png": "[encoded data removed]",
      "text/plain": [
       "<Figure size 1152x576 with 1 Axes>"
      ]
     },
     "metadata": {},
     "output_type": "display_data"
    }
   ],
   "source": [
    "\n",
    "plt.figure(figsize=(16,8))\n",
    "plt.hist([df2[xbox_mask]['text_length'], \n",
    "          df2[ps_mask]['text_length']],\n",
    "         bins=15)\n",
    "plt.title('Text Length by Subreddit', fontsize = 30)\n",
    "\n",
    "# Character Count Mean - Relationship Advice \n",
    "plt.axvline(XboxOne_mean, color = '#00FFFF')\n",
    "\n",
    "# Character Count Mean - Dating \n",
    "plt.axvline(PS4_mean, color = 'red')\n",
    "\n",
    "plt.legend(['Xbox Mean', 'PS4 Mean', 'XboxOne', 'PS4'], fontsize = 18);\n",
    "\n",
    "plt.xlabel('Text Length', fontsize = 18);\n",
    "plt.ylabel('Frequency', fontsize = 18);"
   ]
  },
  {
   "cell_type": "code",
   "execution_count": 37,
   "metadata": {},
   "outputs": [],
   "source": [
    "cv = CountVectorizer(stop_words='english', min_df=3)\n",
    "cv.fit(df2['text'])\n",
    "\n",
    "status_cv = cv.transform(df2['text'])\n",
    "status_df = pd.DataFrame(status_cv.todense(), columns=cv.get_feature_names())"
   ]
  },
  {
   "cell_type": "code",
   "execution_count": 38,
   "metadata": {},
   "outputs": [
    {
     "data": {
      "text/plain": [
       "xbox          4020\n",
       "ps4           4008\n",
       "game          3490\n",
       "games         2662\n",
       "just          2418\n",
       "play          1756\n",
       "controller    1655\n",
       "help          1655\n",
       "like          1569\n",
       "new           1423\n",
       "series        1398\n",
       "ve            1395\n",
       "know          1392\n",
       "account       1188\n",
       "got           1047\n",
       "dtype: int64"
      ]
     },
     "execution_count": 38,
     "metadata": {},
     "output_type": "execute_result"
    }
   ],
   "source": [
    "# 15 most common words\n",
    "status_df.sum().sort_values(ascending=False).head(15)"
   ]
  },
  {
   "cell_type": "code",
   "execution_count": 39,
   "metadata": {},
   "outputs": [
    {
     "data": {
      "image/png": "[encoded data removed]",
      "text/plain": [
       "<Figure size 648x504 with 1 Axes>"
      ]
     },
     "metadata": {},
     "output_type": "display_data"
    }
   ],
   "source": [
    "# 15 most common words frequency\n",
    "plt.figure(figsize=(9,7))\n",
    "plt.title('Most Common Words', size = 24)\n",
    "plt.xlabel(\"Frequency\", size=18)\n",
    "plt.yticks(fontsize=15)\n",
    "status_df.sum().sort_values(ascending=False).head(15).plot(kind='barh');"
   ]
  },
  {
   "cell_type": "markdown",
   "metadata": {},
   "source": [
    "This graph presents us with the top 15 words used within the whole dataset. "
   ]
  },
  {
   "cell_type": "code",
   "execution_count": 40,
   "metadata": {},
   "outputs": [],
   "source": [
    "xbox = df2[df2['y'] == 0]"
   ]
  },
  {
   "cell_type": "code",
   "execution_count": 41,
   "metadata": {},
   "outputs": [
    {
     "data": {
      "text/plain": [
       "(5000, 5)"
      ]
     },
     "execution_count": 41,
     "metadata": {},
     "output_type": "execute_result"
    }
   ],
   "source": [
    "xbox.shape"
   ]
  },
  {
   "cell_type": "code",
   "execution_count": 42,
   "metadata": {},
   "outputs": [],
   "source": [
    "cv = CountVectorizer(stop_words='english', min_df=3, ngram_range = (2,2))\n",
    "cv.fit(xbox['text'])\n",
    "\n",
    "status_cv = cv.transform(xbox['text'])\n",
    "status_xbox = pd.DataFrame(status_cv.todense(), columns=cv.get_feature_names())"
   ]
  },
  {
   "cell_type": "code",
   "execution_count": 57,
   "metadata": {},
   "outputs": [
    {
     "data": {
      "image/png": "[encoded data removed]",
      "text/plain": [
       "<Figure size 648x504 with 1 Axes>"
      ]
     },
     "metadata": {},
     "output_type": "display_data"
    }
   ],
   "source": [
    "plt.figure(figsize=(9,7))\n",
    "plt.title('r/XboxOne Top Bigrams', size = 24)\n",
    "plt.xlabel(\"Frequency\", size=18)\n",
    "plt.yticks(fontsize=15)\n",
    "status_xbox.sum().sort_values(ascending=False).head(10).plot(kind='barh', color='green');"
   ]
  },
  {
   "cell_type": "markdown",
   "metadata": {},
   "source": [
    "This graph shows the top 10 bigrams in xboxone subreddit. "
   ]
  },
  {
   "cell_type": "code",
   "execution_count": 44,
   "metadata": {},
   "outputs": [],
   "source": [
    "ps = df2[df2['y'] == 1]"
   ]
  },
  {
   "cell_type": "code",
   "execution_count": 45,
   "metadata": {},
   "outputs": [],
   "source": [
    "cv = CountVectorizer(stop_words='english', min_df=3, )\n",
    "cv.fit(ps['text'])\n",
    "\n",
    "status_cv = cv.transform(ps['text'])\n",
    "status_ps = pd.DataFrame(status_cv.todense(), columns=cv.get_feature_names())"
   ]
  },
  {
   "cell_type": "code",
   "execution_count": 46,
   "metadata": {},
   "outputs": [
    {
     "data": {
      "image/png": "[encoded data removed]",
      "text/plain": [
       "<Figure size 648x504 with 1 Axes>"
      ]
     },
     "metadata": {},
     "output_type": "display_data"
    }
   ],
   "source": [
    "plt.figure(figsize=(9,7))\n",
    "plt.title('r/PS4 Most Common Words', size = 24)\n",
    "plt.xlabel(\"Frequency\", size=18)\n",
    "plt.yticks(fontsize=15)\n",
    "status_ps.sum().sort_values(ascending=False).head(10).plot(kind='barh', color ='blue');"
   ]
  },
  {
   "cell_type": "markdown",
   "metadata": {},
   "source": [
    "This graph is showing us the top 10 words in the PS4 subreddit. "
   ]
  },
  {
   "cell_type": "code",
   "execution_count": 47,
   "metadata": {},
   "outputs": [],
   "source": [
    "cv_2 = CountVectorizer(stop_words='english', min_df=3, ngram_range = (2,2))\n",
    "cv_2.fit(xbox['text'])\n",
    "\n",
    "status_cv2 = cv.transform(xbox['text'])\n",
    "status_xbox2 = pd.DataFrame(status_cv.todense(), columns=cv.get_feature_names())"
   ]
  },
  {
   "cell_type": "code",
   "execution_count": 48,
   "metadata": {},
   "outputs": [
    {
     "data": {
      "image/png": "[encoded data removed]",
      "text/plain": [
       "<Figure size 648x504 with 1 Axes>"
      ]
     },
     "metadata": {},
     "output_type": "display_data"
    }
   ],
   "source": [
    "plt.figure(figsize=(9,7))\n",
    "plt.title('r/XboxOne Most Common Word Combo', size = 24)\n",
    "plt.xlabel(\"Frequency\", size=18)\n",
    "plt.yticks(fontsize=15)\n",
    "status_xbox2.sum().sort_values(ascending=False).head(10).plot(kind='barh', color='green');"
   ]
  },
  {
   "cell_type": "markdown",
   "metadata": {},
   "source": [
    "This graph is showing us the top 10 words in the XboxOne subreddit. "
   ]
  },
  {
   "cell_type": "code",
   "execution_count": 61,
   "metadata": {},
   "outputs": [],
   "source": [
    "cv3 = CountVectorizer(stop_words='english', min_df=3, ngram_range = (2,2))\n",
    "cv3.fit(ps['text'])\n",
    "\n",
    "status_cv2 = cv3.transform(ps['text'])\n",
    "status_ps2 = pd.DataFrame(status_cv2.todense(), columns=cv3.get_feature_names())"
   ]
  },
  {
   "cell_type": "code",
   "execution_count": 62,
   "metadata": {},
   "outputs": [
    {
     "data": {
      "image/png": "[encoded data removed]",
      "text/plain": [
       "<Figure size 648x504 with 1 Axes>"
      ]
     },
     "metadata": {},
     "output_type": "display_data"
    }
   ],
   "source": [
    "plt.figure(figsize=(9,7))\n",
    "plt.title('r/PS4 Top Bigrams', size = 24)\n",
    "plt.xlabel(\"Frequency\", size=18)\n",
    "plt.yticks(fontsize=15)\n",
    "status_ps2.sum().sort_values(ascending=False).head(10).plot(kind='barh', color ='blue');"
   ]
  },
  {
   "cell_type": "markdown",
   "metadata": {},
   "source": [
    "This graph shows the top 10 bigrams in PS4 subreddit. "
   ]
  },
  {
   "cell_type": "code",
   "execution_count": null,
   "metadata": {},
   "outputs": [],
   "source": [
    "# Save new dataframe to csv\n",
    "#status_df.to_csv('reddit_data_clean2.csv', index=False)"
   ]
  }
 ],
 "metadata": {
  "kernelspec": {
   "display_name": "Python 3",
   "language": "python",
   "name": "python3"
  },
  "language_info": {
   "codemirror_mode": {
    "name": "ipython",
    "version": 3
   },
   "file_extension": ".py",
   "mimetype": "text/x-python",
   "name": "python",
   "nbconvert_exporter": "python",
   "pygments_lexer": "ipython3",
   "version": "3.8.3"
  }
 },
 "nbformat": 4,
 "nbformat_minor": 4
}
