{
 "cells": [
  {
   "cell_type": "markdown",
   "metadata": {},
   "source": [
    "# Project 3: Web API's & NLP"
   ]
  },
  {
   "cell_type": "markdown",
   "metadata": {},
   "source": [
    "## Preprocessing and Modeling"
   ]
  },
  {
   "cell_type": "code",
   "execution_count": 1,
   "metadata": {},
   "outputs": [],
   "source": [
    "# imports\n",
    "import pandas as pd\n",
    "import numpy as np\n",
    "import seaborn as sns\n",
    "import matplotlib.pyplot as plt\n",
    "from sklearn.model_selection import train_test_split, cross_val_score, GridSearchCV\n",
    "from sklearn.ensemble import ExtraTreesClassifier, RandomForestClassifier\n",
    "from sklearn.pipeline import Pipeline\n",
    "from sklearn.naive_bayes import MultinomialNB\n",
    "from sklearn.linear_model import LogisticRegression\n",
    "from sklearn.metrics import confusion_matrix, plot_confusion_matrix\n",
    "from sklearn.feature_extraction.text import CountVectorizer, TfidfVectorizer\n",
    "from sklearn.feature_extraction import text "
   ]
  },
  {
   "cell_type": "code",
   "execution_count": 12,
   "metadata": {},
   "outputs": [],
   "source": [
    "# Read the data\n",
    "df = pd.read_csv('../data/reddit_data_clean.csv')"
   ]
  },
  {
   "cell_type": "code",
   "execution_count": 13,
   "metadata": {},
   "outputs": [
    {
     "data": {
      "text/html": [
       "<div>\n",
       "<style scoped>\n",
       "    .dataframe tbody tr th:only-of-type {\n",
       "        vertical-align: middle;\n",
       "    }\n",
       "\n",
       "    .dataframe tbody tr th {\n",
       "        vertical-align: top;\n",
       "    }\n",
       "\n",
       "    .dataframe thead th {\n",
       "        text-align: right;\n",
       "    }\n",
       "</style>\n",
       "<table border=\"1\" class=\"dataframe\">\n",
       "  <thead>\n",
       "    <tr style=\"text-align: right;\">\n",
       "      <th></th>\n",
       "      <th>text</th>\n",
       "      <th>subreddit</th>\n",
       "      <th>y</th>\n",
       "    </tr>\n",
       "  </thead>\n",
       "  <tbody>\n",
       "    <tr>\n",
       "      <th>0</th>\n",
       "      <td>How to sync controller after Xbox breaks down?</td>\n",
       "      <td>xboxone</td>\n",
       "      <td>0</td>\n",
       "    </tr>\n",
       "    <tr>\n",
       "      <th>1</th>\n",
       "      <td>Curious if using game sharing on the Xbox one ...</td>\n",
       "      <td>xboxone</td>\n",
       "      <td>0</td>\n",
       "    </tr>\n",
       "    <tr>\n",
       "      <th>2</th>\n",
       "      <td>Name Change: Untaken Name Unavailable I was tr...</td>\n",
       "      <td>xboxone</td>\n",
       "      <td>0</td>\n",
       "    </tr>\n",
       "    <tr>\n",
       "      <th>3</th>\n",
       "      <td>Xbox game pass ultimate 14 day free trial codes</td>\n",
       "      <td>xboxone</td>\n",
       "      <td>0</td>\n",
       "    </tr>\n",
       "    <tr>\n",
       "      <th>4</th>\n",
       "      <td>Leaving Gamepass December 15 Leaving December ...</td>\n",
       "      <td>xboxone</td>\n",
       "      <td>0</td>\n",
       "    </tr>\n",
       "  </tbody>\n",
       "</table>\n",
       "</div>"
      ],
      "text/plain": [
       "                                                text subreddit  y\n",
       "0    How to sync controller after Xbox breaks down?    xboxone  0\n",
       "1  Curious if using game sharing on the Xbox one ...   xboxone  0\n",
       "2  Name Change: Untaken Name Unavailable I was tr...   xboxone  0\n",
       "3  Xbox game pass ultimate 14 day free trial codes     xboxone  0\n",
       "4  Leaving Gamepass December 15 Leaving December ...   xboxone  0"
      ]
     },
     "execution_count": 13,
     "metadata": {},
     "output_type": "execute_result"
    }
   ],
   "source": [
    "df.head()"
   ]
  },
  {
   "cell_type": "code",
   "execution_count": 14,
   "metadata": {},
   "outputs": [],
   "source": [
    "my_stop_words = ['in', 'of', 'for', 'is', 'on', 'my', 'it', 'and', 'to', 'the', 'me', 'had', 'been' 'from', 'except',\n",
    "             'found', 'will', 'i', 'nowhere', 'somehow', 'do', 'now', 'so', 'made', 'make', 'next' 'game']"
   ]
  },
  {
   "cell_type": "code",
   "execution_count": 15,
   "metadata": {},
   "outputs": [],
   "source": [
    "# combined my stop words with the default stop words from sklearn\n",
    "# Code credit to Adam\n",
    "\n",
    "stop_words = text.ENGLISH_STOP_WORDS.union(my_stop_words)"
   ]
  },
  {
   "cell_type": "code",
   "execution_count": 16,
   "metadata": {},
   "outputs": [],
   "source": [
    "X = df['text']\n",
    "y = df['y']"
   ]
  },
  {
   "cell_type": "code",
   "execution_count": 17,
   "metadata": {},
   "outputs": [],
   "source": [
    "# Split data into training and testing sets.\n",
    "X_train, X_test, y_train, y_test = train_test_split(X, y,\n",
    "                                                    random_state=42,\n",
    "                                                    stratify=y)"
   ]
  },
  {
   "cell_type": "code",
   "execution_count": 18,
   "metadata": {},
   "outputs": [
    {
     "data": {
      "text/plain": [
       "0.5"
      ]
     },
     "execution_count": 18,
     "metadata": {},
     "output_type": "execute_result"
    }
   ],
   "source": [
    "y_train.mean()"
   ]
  },
  {
   "cell_type": "code",
   "execution_count": 19,
   "metadata": {},
   "outputs": [
    {
     "data": {
      "text/plain": [
       "1    0.5\n",
       "0    0.5\n",
       "Name: y, dtype: float64"
      ]
     },
     "execution_count": 19,
     "metadata": {},
     "output_type": "execute_result"
    }
   ],
   "source": [
    "y_train.value_counts(normalize = True)"
   ]
  },
  {
   "cell_type": "markdown",
   "metadata": {},
   "source": [
    "## Logistic Regression and Count Vectorizer/TfidVecorizer"
   ]
  },
  {
   "cell_type": "code",
   "execution_count": 20,
   "metadata": {},
   "outputs": [
    {
     "name": "stdout",
     "output_type": "stream",
     "text": [
      "GridSearch score with CountVectorized features on training set is 0.9856.\n",
      "\n",
      "GridSearch score with CountVectorized features on testing set is 0.868.\n"
     ]
    }
   ],
   "source": [
    "# Instantiate pipeline.\n",
    "pipe_cv = Pipeline([\n",
    "    ('cv', CountVectorizer()),\n",
    "    ('lr', LogisticRegression(solver = 'liblinear'))\n",
    "])\n",
    "\n",
    "# Define grid of parameters to GridSearch over.\n",
    "params_grid = {\n",
    "    'cv__max_features': [None, 3000, 5000, 10000],\n",
    "    'cv__stop_words': [stop_words,'english', None],\n",
    "    'cv__ngram_range': [(1,1), (1,2)]\n",
    "}\n",
    "\n",
    "# GridSearch over pipeline with given grid of parameters.\n",
    "gs_cv = GridSearchCV(pipe_cv, params_grid, cv=5)\n",
    "\n",
    "# Fit model.\n",
    "gs_cv.fit(X_train, y_train)\n",
    "\n",
    "print(f'GridSearch score with CountVectorized features on training set is {round(gs_cv.score(X_train, y_train), 4)}.')\n",
    "print()\n",
    "print(f'GridSearch score with CountVectorized features on testing set is {round(gs_cv.score(X_test, y_test), 4)}.')"
   ]
  },
  {
   "cell_type": "code",
   "execution_count": 21,
   "metadata": {},
   "outputs": [
    {
     "data": {
      "text/plain": [
       "{'cv__max_features': None,\n",
       " 'cv__ngram_range': (1, 2),\n",
       " 'cv__stop_words': frozenset({'a',\n",
       "            'about',\n",
       "            'above',\n",
       "            'across',\n",
       "            'after',\n",
       "            'afterwards',\n",
       "            'again',\n",
       "            'against',\n",
       "            'all',\n",
       "            'almost',\n",
       "            'alone',\n",
       "            'along',\n",
       "            'already',\n",
       "            'also',\n",
       "            'although',\n",
       "            'always',\n",
       "            'am',\n",
       "            'among',\n",
       "            'amongst',\n",
       "            'amoungst',\n",
       "            'amount',\n",
       "            'an',\n",
       "            'and',\n",
       "            'another',\n",
       "            'any',\n",
       "            'anyhow',\n",
       "            'anyone',\n",
       "            'anything',\n",
       "            'anyway',\n",
       "            'anywhere',\n",
       "            'are',\n",
       "            'around',\n",
       "            'as',\n",
       "            'at',\n",
       "            'back',\n",
       "            'be',\n",
       "            'became',\n",
       "            'because',\n",
       "            'become',\n",
       "            'becomes',\n",
       "            'becoming',\n",
       "            'been',\n",
       "            'beenfrom',\n",
       "            'before',\n",
       "            'beforehand',\n",
       "            'behind',\n",
       "            'being',\n",
       "            'below',\n",
       "            'beside',\n",
       "            'besides',\n",
       "            'between',\n",
       "            'beyond',\n",
       "            'bill',\n",
       "            'both',\n",
       "            'bottom',\n",
       "            'but',\n",
       "            'by',\n",
       "            'call',\n",
       "            'can',\n",
       "            'cannot',\n",
       "            'cant',\n",
       "            'co',\n",
       "            'con',\n",
       "            'could',\n",
       "            'couldnt',\n",
       "            'cry',\n",
       "            'de',\n",
       "            'describe',\n",
       "            'detail',\n",
       "            'do',\n",
       "            'done',\n",
       "            'down',\n",
       "            'due',\n",
       "            'during',\n",
       "            'each',\n",
       "            'eg',\n",
       "            'eight',\n",
       "            'either',\n",
       "            'eleven',\n",
       "            'else',\n",
       "            'elsewhere',\n",
       "            'empty',\n",
       "            'enough',\n",
       "            'etc',\n",
       "            'even',\n",
       "            'ever',\n",
       "            'every',\n",
       "            'everyone',\n",
       "            'everything',\n",
       "            'everywhere',\n",
       "            'except',\n",
       "            'few',\n",
       "            'fifteen',\n",
       "            'fifty',\n",
       "            'fill',\n",
       "            'find',\n",
       "            'fire',\n",
       "            'first',\n",
       "            'five',\n",
       "            'for',\n",
       "            'former',\n",
       "            'formerly',\n",
       "            'forty',\n",
       "            'found',\n",
       "            'four',\n",
       "            'from',\n",
       "            'front',\n",
       "            'full',\n",
       "            'further',\n",
       "            'get',\n",
       "            'give',\n",
       "            'go',\n",
       "            'had',\n",
       "            'has',\n",
       "            'hasnt',\n",
       "            'have',\n",
       "            'he',\n",
       "            'hence',\n",
       "            'her',\n",
       "            'here',\n",
       "            'hereafter',\n",
       "            'hereby',\n",
       "            'herein',\n",
       "            'hereupon',\n",
       "            'hers',\n",
       "            'herself',\n",
       "            'him',\n",
       "            'himself',\n",
       "            'his',\n",
       "            'how',\n",
       "            'however',\n",
       "            'hundred',\n",
       "            'i',\n",
       "            'ie',\n",
       "            'if',\n",
       "            'in',\n",
       "            'inc',\n",
       "            'indeed',\n",
       "            'interest',\n",
       "            'into',\n",
       "            'is',\n",
       "            'it',\n",
       "            'its',\n",
       "            'itself',\n",
       "            'keep',\n",
       "            'last',\n",
       "            'latter',\n",
       "            'latterly',\n",
       "            'least',\n",
       "            'less',\n",
       "            'ltd',\n",
       "            'made',\n",
       "            'make',\n",
       "            'many',\n",
       "            'may',\n",
       "            'me',\n",
       "            'meanwhile',\n",
       "            'might',\n",
       "            'mill',\n",
       "            'mine',\n",
       "            'more',\n",
       "            'moreover',\n",
       "            'most',\n",
       "            'mostly',\n",
       "            'move',\n",
       "            'much',\n",
       "            'must',\n",
       "            'my',\n",
       "            'myself',\n",
       "            'name',\n",
       "            'namely',\n",
       "            'neither',\n",
       "            'never',\n",
       "            'nevertheless',\n",
       "            'next',\n",
       "            'nextgame',\n",
       "            'nine',\n",
       "            'no',\n",
       "            'nobody',\n",
       "            'none',\n",
       "            'noone',\n",
       "            'nor',\n",
       "            'not',\n",
       "            'nothing',\n",
       "            'now',\n",
       "            'nowhere',\n",
       "            'of',\n",
       "            'off',\n",
       "            'often',\n",
       "            'on',\n",
       "            'once',\n",
       "            'one',\n",
       "            'only',\n",
       "            'onto',\n",
       "            'or',\n",
       "            'other',\n",
       "            'others',\n",
       "            'otherwise',\n",
       "            'our',\n",
       "            'ours',\n",
       "            'ourselves',\n",
       "            'out',\n",
       "            'over',\n",
       "            'own',\n",
       "            'part',\n",
       "            'per',\n",
       "            'perhaps',\n",
       "            'please',\n",
       "            'put',\n",
       "            'rather',\n",
       "            're',\n",
       "            'same',\n",
       "            'see',\n",
       "            'seem',\n",
       "            'seemed',\n",
       "            'seeming',\n",
       "            'seems',\n",
       "            'serious',\n",
       "            'several',\n",
       "            'she',\n",
       "            'should',\n",
       "            'show',\n",
       "            'side',\n",
       "            'since',\n",
       "            'sincere',\n",
       "            'six',\n",
       "            'sixty',\n",
       "            'so',\n",
       "            'some',\n",
       "            'somehow',\n",
       "            'someone',\n",
       "            'something',\n",
       "            'sometime',\n",
       "            'sometimes',\n",
       "            'somewhere',\n",
       "            'still',\n",
       "            'such',\n",
       "            'system',\n",
       "            'take',\n",
       "            'ten',\n",
       "            'than',\n",
       "            'that',\n",
       "            'the',\n",
       "            'their',\n",
       "            'them',\n",
       "            'themselves',\n",
       "            'then',\n",
       "            'thence',\n",
       "            'there',\n",
       "            'thereafter',\n",
       "            'thereby',\n",
       "            'therefore',\n",
       "            'therein',\n",
       "            'thereupon',\n",
       "            'these',\n",
       "            'they',\n",
       "            'thick',\n",
       "            'thin',\n",
       "            'third',\n",
       "            'this',\n",
       "            'those',\n",
       "            'though',\n",
       "            'three',\n",
       "            'through',\n",
       "            'throughout',\n",
       "            'thru',\n",
       "            'thus',\n",
       "            'to',\n",
       "            'together',\n",
       "            'too',\n",
       "            'top',\n",
       "            'toward',\n",
       "            'towards',\n",
       "            'twelve',\n",
       "            'twenty',\n",
       "            'two',\n",
       "            'un',\n",
       "            'under',\n",
       "            'until',\n",
       "            'up',\n",
       "            'upon',\n",
       "            'us',\n",
       "            'very',\n",
       "            'via',\n",
       "            'was',\n",
       "            'we',\n",
       "            'well',\n",
       "            'were',\n",
       "            'what',\n",
       "            'whatever',\n",
       "            'when',\n",
       "            'whence',\n",
       "            'whenever',\n",
       "            'where',\n",
       "            'whereafter',\n",
       "            'whereas',\n",
       "            'whereby',\n",
       "            'wherein',\n",
       "            'whereupon',\n",
       "            'wherever',\n",
       "            'whether',\n",
       "            'which',\n",
       "            'while',\n",
       "            'whither',\n",
       "            'who',\n",
       "            'whoever',\n",
       "            'whole',\n",
       "            'whom',\n",
       "            'whose',\n",
       "            'why',\n",
       "            'will',\n",
       "            'with',\n",
       "            'within',\n",
       "            'without',\n",
       "            'would',\n",
       "            'yet',\n",
       "            'you',\n",
       "            'your',\n",
       "            'yours',\n",
       "            'yourself',\n",
       "            'yourselves'})}"
      ]
     },
     "execution_count": 21,
     "metadata": {},
     "output_type": "execute_result"
    }
   ],
   "source": [
    "gs_cv.best_params_"
   ]
  },
  {
   "cell_type": "code",
   "execution_count": 22,
   "metadata": {},
   "outputs": [
    {
     "name": "stdout",
     "output_type": "stream",
     "text": [
      "GridSearch score with TFIDFVectorized features on training set is 0.9464.\n",
      "\n",
      "GridSearch score with TFIDFVectorized features on testing set is 0.8744.\n"
     ]
    }
   ],
   "source": [
    "# Instantiate pipeline.\n",
    "pipe_tf = Pipeline([\n",
    "    ('tf',TfidfVectorizer()),\n",
    "    ('lr', LogisticRegression(solver = 'liblinear'))\n",
    "])\n",
    "\n",
    "# Define grid of parameters to GridSearch over.\n",
    "params_grid = {\n",
    "    'tf__max_features': [None, 3000, 5000, 10000],\n",
    "    'tf__stop_words': [stop_words, 'english', None],\n",
    "    'tf__ngram_range': [(1,1), (1,2)]\n",
    "}\n",
    "\n",
    "# GridSearch over pipeline with given grid of parameters.\n",
    "gs_tf = GridSearchCV(pipe_tf, params_grid, cv=5)\n",
    "\n",
    "# Fit model.\n",
    "gs_tf.fit(X_train, y_train)\n",
    "\n",
    "print(f'GridSearch score with TFIDFVectorized features on training set is {round(gs_tf.score(X_train, y_train),4)}.')\n",
    "print()\n",
    "print(f'GridSearch score with TFIDFVectorized features on testing set is {round(gs_tf.score(X_test, y_test),4)}.')"
   ]
  },
  {
   "cell_type": "code",
   "execution_count": 23,
   "metadata": {},
   "outputs": [
    {
     "data": {
      "text/plain": [
       "{'tf__max_features': 10000,\n",
       " 'tf__ngram_range': (1, 2),\n",
       " 'tf__stop_words': frozenset({'a',\n",
       "            'about',\n",
       "            'above',\n",
       "            'across',\n",
       "            'after',\n",
       "            'afterwards',\n",
       "            'again',\n",
       "            'against',\n",
       "            'all',\n",
       "            'almost',\n",
       "            'alone',\n",
       "            'along',\n",
       "            'already',\n",
       "            'also',\n",
       "            'although',\n",
       "            'always',\n",
       "            'am',\n",
       "            'among',\n",
       "            'amongst',\n",
       "            'amoungst',\n",
       "            'amount',\n",
       "            'an',\n",
       "            'and',\n",
       "            'another',\n",
       "            'any',\n",
       "            'anyhow',\n",
       "            'anyone',\n",
       "            'anything',\n",
       "            'anyway',\n",
       "            'anywhere',\n",
       "            'are',\n",
       "            'around',\n",
       "            'as',\n",
       "            'at',\n",
       "            'back',\n",
       "            'be',\n",
       "            'became',\n",
       "            'because',\n",
       "            'become',\n",
       "            'becomes',\n",
       "            'becoming',\n",
       "            'been',\n",
       "            'beenfrom',\n",
       "            'before',\n",
       "            'beforehand',\n",
       "            'behind',\n",
       "            'being',\n",
       "            'below',\n",
       "            'beside',\n",
       "            'besides',\n",
       "            'between',\n",
       "            'beyond',\n",
       "            'bill',\n",
       "            'both',\n",
       "            'bottom',\n",
       "            'but',\n",
       "            'by',\n",
       "            'call',\n",
       "            'can',\n",
       "            'cannot',\n",
       "            'cant',\n",
       "            'co',\n",
       "            'con',\n",
       "            'could',\n",
       "            'couldnt',\n",
       "            'cry',\n",
       "            'de',\n",
       "            'describe',\n",
       "            'detail',\n",
       "            'do',\n",
       "            'done',\n",
       "            'down',\n",
       "            'due',\n",
       "            'during',\n",
       "            'each',\n",
       "            'eg',\n",
       "            'eight',\n",
       "            'either',\n",
       "            'eleven',\n",
       "            'else',\n",
       "            'elsewhere',\n",
       "            'empty',\n",
       "            'enough',\n",
       "            'etc',\n",
       "            'even',\n",
       "            'ever',\n",
       "            'every',\n",
       "            'everyone',\n",
       "            'everything',\n",
       "            'everywhere',\n",
       "            'except',\n",
       "            'few',\n",
       "            'fifteen',\n",
       "            'fifty',\n",
       "            'fill',\n",
       "            'find',\n",
       "            'fire',\n",
       "            'first',\n",
       "            'five',\n",
       "            'for',\n",
       "            'former',\n",
       "            'formerly',\n",
       "            'forty',\n",
       "            'found',\n",
       "            'four',\n",
       "            'from',\n",
       "            'front',\n",
       "            'full',\n",
       "            'further',\n",
       "            'get',\n",
       "            'give',\n",
       "            'go',\n",
       "            'had',\n",
       "            'has',\n",
       "            'hasnt',\n",
       "            'have',\n",
       "            'he',\n",
       "            'hence',\n",
       "            'her',\n",
       "            'here',\n",
       "            'hereafter',\n",
       "            'hereby',\n",
       "            'herein',\n",
       "            'hereupon',\n",
       "            'hers',\n",
       "            'herself',\n",
       "            'him',\n",
       "            'himself',\n",
       "            'his',\n",
       "            'how',\n",
       "            'however',\n",
       "            'hundred',\n",
       "            'i',\n",
       "            'ie',\n",
       "            'if',\n",
       "            'in',\n",
       "            'inc',\n",
       "            'indeed',\n",
       "            'interest',\n",
       "            'into',\n",
       "            'is',\n",
       "            'it',\n",
       "            'its',\n",
       "            'itself',\n",
       "            'keep',\n",
       "            'last',\n",
       "            'latter',\n",
       "            'latterly',\n",
       "            'least',\n",
       "            'less',\n",
       "            'ltd',\n",
       "            'made',\n",
       "            'make',\n",
       "            'many',\n",
       "            'may',\n",
       "            'me',\n",
       "            'meanwhile',\n",
       "            'might',\n",
       "            'mill',\n",
       "            'mine',\n",
       "            'more',\n",
       "            'moreover',\n",
       "            'most',\n",
       "            'mostly',\n",
       "            'move',\n",
       "            'much',\n",
       "            'must',\n",
       "            'my',\n",
       "            'myself',\n",
       "            'name',\n",
       "            'namely',\n",
       "            'neither',\n",
       "            'never',\n",
       "            'nevertheless',\n",
       "            'next',\n",
       "            'nextgame',\n",
       "            'nine',\n",
       "            'no',\n",
       "            'nobody',\n",
       "            'none',\n",
       "            'noone',\n",
       "            'nor',\n",
       "            'not',\n",
       "            'nothing',\n",
       "            'now',\n",
       "            'nowhere',\n",
       "            'of',\n",
       "            'off',\n",
       "            'often',\n",
       "            'on',\n",
       "            'once',\n",
       "            'one',\n",
       "            'only',\n",
       "            'onto',\n",
       "            'or',\n",
       "            'other',\n",
       "            'others',\n",
       "            'otherwise',\n",
       "            'our',\n",
       "            'ours',\n",
       "            'ourselves',\n",
       "            'out',\n",
       "            'over',\n",
       "            'own',\n",
       "            'part',\n",
       "            'per',\n",
       "            'perhaps',\n",
       "            'please',\n",
       "            'put',\n",
       "            'rather',\n",
       "            're',\n",
       "            'same',\n",
       "            'see',\n",
       "            'seem',\n",
       "            'seemed',\n",
       "            'seeming',\n",
       "            'seems',\n",
       "            'serious',\n",
       "            'several',\n",
       "            'she',\n",
       "            'should',\n",
       "            'show',\n",
       "            'side',\n",
       "            'since',\n",
       "            'sincere',\n",
       "            'six',\n",
       "            'sixty',\n",
       "            'so',\n",
       "            'some',\n",
       "            'somehow',\n",
       "            'someone',\n",
       "            'something',\n",
       "            'sometime',\n",
       "            'sometimes',\n",
       "            'somewhere',\n",
       "            'still',\n",
       "            'such',\n",
       "            'system',\n",
       "            'take',\n",
       "            'ten',\n",
       "            'than',\n",
       "            'that',\n",
       "            'the',\n",
       "            'their',\n",
       "            'them',\n",
       "            'themselves',\n",
       "            'then',\n",
       "            'thence',\n",
       "            'there',\n",
       "            'thereafter',\n",
       "            'thereby',\n",
       "            'therefore',\n",
       "            'therein',\n",
       "            'thereupon',\n",
       "            'these',\n",
       "            'they',\n",
       "            'thick',\n",
       "            'thin',\n",
       "            'third',\n",
       "            'this',\n",
       "            'those',\n",
       "            'though',\n",
       "            'three',\n",
       "            'through',\n",
       "            'throughout',\n",
       "            'thru',\n",
       "            'thus',\n",
       "            'to',\n",
       "            'together',\n",
       "            'too',\n",
       "            'top',\n",
       "            'toward',\n",
       "            'towards',\n",
       "            'twelve',\n",
       "            'twenty',\n",
       "            'two',\n",
       "            'un',\n",
       "            'under',\n",
       "            'until',\n",
       "            'up',\n",
       "            'upon',\n",
       "            'us',\n",
       "            'very',\n",
       "            'via',\n",
       "            'was',\n",
       "            'we',\n",
       "            'well',\n",
       "            'were',\n",
       "            'what',\n",
       "            'whatever',\n",
       "            'when',\n",
       "            'whence',\n",
       "            'whenever',\n",
       "            'where',\n",
       "            'whereafter',\n",
       "            'whereas',\n",
       "            'whereby',\n",
       "            'wherein',\n",
       "            'whereupon',\n",
       "            'wherever',\n",
       "            'whether',\n",
       "            'which',\n",
       "            'while',\n",
       "            'whither',\n",
       "            'who',\n",
       "            'whoever',\n",
       "            'whole',\n",
       "            'whom',\n",
       "            'whose',\n",
       "            'why',\n",
       "            'will',\n",
       "            'with',\n",
       "            'within',\n",
       "            'without',\n",
       "            'would',\n",
       "            'yet',\n",
       "            'you',\n",
       "            'your',\n",
       "            'yours',\n",
       "            'yourself',\n",
       "            'yourselves'})}"
      ]
     },
     "execution_count": 23,
     "metadata": {},
     "output_type": "execute_result"
    }
   ],
   "source": [
    "gs_tf.best_params_"
   ]
  },
  {
   "cell_type": "code",
   "execution_count": 24,
   "metadata": {},
   "outputs": [
    {
     "name": "stdout",
     "output_type": "stream",
     "text": [
      "Training accuracy score for our logistic regression model is: 0.9856.\n",
      "Testing accuracy score for our logistic regression model is: 0.868.\n"
     ]
    }
   ],
   "source": [
    "# Grab best estimator from gs_cv.\n",
    "lr_model = gs_cv.best_estimator_\n",
    "\n",
    "# Fit model.\n",
    "lr_model.fit(X_train, y_train)\n",
    "\n",
    "print(f'Training accuracy score for our logistic regression model is: {round(lr_model.score(X_train, y_train),4)}.')\n",
    "print(f'Testing accuracy score for our logistic regression model is: {round(lr_model.score(X_test, y_test),4)}.')"
   ]
  },
  {
   "cell_type": "code",
   "execution_count": 25,
   "metadata": {},
   "outputs": [],
   "source": [
    "# Get predictions\n",
    "pred = lr_model.predict(X_test)\n",
    "# Save confusion matrix values\n",
    "\n",
    "tn, fp, fn, tp = confusion_matrix(y_test, pred).ravel()"
   ]
  },
  {
   "cell_type": "code",
   "execution_count": 26,
   "metadata": {},
   "outputs": [
    {
     "data": {
      "image/png": "[encoded data removed]",
      "text/plain": [
       "<Figure size 432x288 with 2 Axes>"
      ]
     },
     "metadata": {
      "needs_background": "light"
     },
     "output_type": "display_data"
    }
   ],
   "source": [
    "# View confusion matrix\n",
    "plot_confusion_matrix(lr_model, X_test, y_test, cmap='Blues', values_format='d');"
   ]
  },
  {
   "cell_type": "code",
   "execution_count": 27,
   "metadata": {},
   "outputs": [
    {
     "name": "stdout",
     "output_type": "stream",
     "text": [
      "Specificity: 0.8936\n",
      "Sensitivity: 0.8424\n"
     ]
    }
   ],
   "source": [
    "# Calculate the specificity  and Sensitivity \n",
    "spec = tn / (tn + fp)\n",
    "\n",
    "print(f'Specificity: {round(spec,4)}')\n",
    "\n",
    "sens = tp / (tp + fn)\n",
    "\n",
    "print(f'Sensitivity: {round(sens,4)}')"
   ]
  },
  {
   "cell_type": "markdown",
   "metadata": {},
   "source": [
    "## Naive Bayes and Count Vectorizer"
   ]
  },
  {
   "cell_type": "code",
   "execution_count": 28,
   "metadata": {},
   "outputs": [
    {
     "name": "stdout",
     "output_type": "stream",
     "text": [
      "GridSearchCV score with MultinomialNB & CountVectorized features on training set is 0.9668.\n",
      "\n",
      "GridSearchCV score with MultinomialNB & CountVectorized features on testing set is 0.8504.\n"
     ]
    }
   ],
   "source": [
    "pipe = Pipeline([\n",
    "    ('vec', CountVectorizer()),\n",
    "    ('mnb', MultinomialNB())\n",
    "])\n",
    "\n",
    "pipe_params = {'vec__max_features': [None, 3000, 5000, 10000],\n",
    "               'vec__ngram_range' : [(1,1), (1,2)],\n",
    "               'vec__stop_words'  : [None, 'english', stop_words]}\n",
    "\n",
    "gs_vec_mnb = GridSearchCV(pipe,\n",
    "                 param_grid = pipe_params,\n",
    "                 cv = 5,\n",
    "                 scoring = 'accuracy')\n",
    "\n",
    "gs_vec_mnb.fit(X_train, y_train)\n",
    "\n",
    "print(f'GridSearchCV score with MultinomialNB & CountVectorized features on training set is {round(gs_vec_mnb.score(X_train, y_train),4)}.')\n",
    "print()\n",
    "print(f'GridSearchCV score with MultinomialNB & CountVectorized features on testing set is {round(gs_vec_mnb.score(X_test, y_test),4)}.')"
   ]
  },
  {
   "cell_type": "code",
   "execution_count": 29,
   "metadata": {},
   "outputs": [
    {
     "data": {
      "text/plain": [
       "{'vec__max_features': None,\n",
       " 'vec__ngram_range': (1, 2),\n",
       " 'vec__stop_words': 'english'}"
      ]
     },
     "execution_count": 29,
     "metadata": {},
     "output_type": "execute_result"
    }
   ],
   "source": [
    "gs_vec_mnb.best_params_"
   ]
  },
  {
   "cell_type": "code",
   "execution_count": 30,
   "metadata": {},
   "outputs": [
    {
     "name": "stdout",
     "output_type": "stream",
     "text": [
      "Training accuracy score for our Multinomial Naive Bayes model is: 0.9668.\n",
      "Testing accuracy score for our Multinomial Naive Bayes model is: 0.8504.\n"
     ]
    }
   ],
   "source": [
    "## Grab best estimator from GridSearch\n",
    "mnb_model = gs_vec_mnb.best_estimator_\n",
    "\n",
    "## Fit Model\n",
    "mnb_model.fit(X_train, y_train)\n",
    "\n",
    "print(f'Training accuracy score for our Multinomial Naive Bayes model is: {round(mnb_model.score(X_train, y_train),4)}.')\n",
    "print(f'Testing accuracy score for our Multinomial Naive Bayes model is: {round(mnb_model.score(X_test, y_test),4)}.')"
   ]
  },
  {
   "cell_type": "code",
   "execution_count": 31,
   "metadata": {},
   "outputs": [],
   "source": [
    "# Get predictions\n",
    "pred = mnb_model.predict(X_test)\n",
    "# Save confusion matrix values\n",
    "\n",
    "tn, fp, fn, tp = confusion_matrix(y_test, pred).ravel()"
   ]
  },
  {
   "cell_type": "code",
   "execution_count": 32,
   "metadata": {},
   "outputs": [
    {
     "data": {
      "image/png": "[encoded data removed]",
      "text/plain": [
       "<Figure size 432x288 with 2 Axes>"
      ]
     },
     "metadata": {
      "needs_background": "light"
     },
     "output_type": "display_data"
    }
   ],
   "source": [
    "# View confusion matrix\n",
    "plot_confusion_matrix(mnb_model, X_test, y_test, cmap='Blues', values_format='d');"
   ]
  },
  {
   "cell_type": "code",
   "execution_count": 33,
   "metadata": {},
   "outputs": [
    {
     "name": "stdout",
     "output_type": "stream",
     "text": [
      "Specificity: 0.808\n",
      "Sensitivity: 0.8928\n"
     ]
    }
   ],
   "source": [
    "# Calculate the specificity  and Sensitivity \n",
    "spec = tn / (tn + fp)\n",
    "\n",
    "print(f'Specificity: {round(spec,4)}')\n",
    "\n",
    "sens = tp / (tp + fn)\n",
    "\n",
    "print(f'Sensitivity: {round(sens,4)}')"
   ]
  },
  {
   "cell_type": "markdown",
   "metadata": {},
   "source": [
    "## Random Forest and Count Vectorizer"
   ]
  },
  {
   "cell_type": "code",
   "execution_count": 34,
   "metadata": {},
   "outputs": [],
   "source": [
    "rf = RandomForestClassifier()\n",
    "cvect= CountVectorizer(ngram_range=(1,2))\n",
    "X_train_cv = cvect.fit_transform(X_train)\n",
    "X_test_cv = cvect.transform(X_test)"
   ]
  },
  {
   "cell_type": "code",
   "execution_count": 35,
   "metadata": {},
   "outputs": [
    {
     "name": "stdout",
     "output_type": "stream",
     "text": [
      "Mean score is 0.8532\n"
     ]
    }
   ],
   "source": [
    "print(f'Mean score is {cross_val_score(rf,X_train_cv,y_train).mean()}')"
   ]
  },
  {
   "cell_type": "code",
   "execution_count": 36,
   "metadata": {},
   "outputs": [
    {
     "name": "stdout",
     "output_type": "stream",
     "text": [
      "0.8469333333333333\n",
      "{'max_depth': None, 'min_samples_split': 3, 'n_estimators': 30}\n",
      "\n",
      "train score: 0.9913333333333333\n",
      "test score: 0.8416\n"
     ]
    }
   ],
   "source": [
    "rf = RandomForestClassifier()\n",
    "rf_params = {\n",
    "    'n_estimators': [10, 20, 30],\n",
    "    'max_depth': [None, 1, 2, 3, 4, 5],\n",
    "    'min_samples_split': [2,3,4],\n",
    "    'max_features': ['auto', 10, 20, 50]      \n",
    "\n",
    "#     'max_features': ['auto',1.0]      took too long to run\n",
    "}\n",
    "rf_gs = GridSearchCV(rf, param_grid=rf_params)\n",
    "rf_gs.fit(X_train_cv, y_train)\n",
    "print(rf_gs.best_score_)\n",
    "print(rf_gs.best_params_)\n",
    "print('')\n",
    "print('train score:',rf_gs.score(X_train_cv, y_train))\n",
    "print('test score:',rf_gs.score(X_test_cv, y_test))"
   ]
  },
  {
   "cell_type": "code",
   "execution_count": 37,
   "metadata": {},
   "outputs": [
    {
     "name": "stdout",
     "output_type": "stream",
     "text": [
      "Training accuracy score for our Random Forest model is: 0.9913.\n",
      "Testing accuracy score for our Random Forest Bayes model is: 0.8484.\n"
     ]
    }
   ],
   "source": [
    "## Grab best estimator from GridSearch\n",
    "rf_model = rf_gs.best_estimator_\n",
    "\n",
    "## Fit Model\n",
    "rf_model.fit(X_train_cv, y_train)\n",
    "\n",
    "print(f'Training accuracy score for our Random Forest model is: {round(rf_model.score(X_train_cv, y_train),4)}.')\n",
    "print(f'Testing accuracy score for our Random Forest Bayes model is: {round(rf_model.score(X_test_cv, y_test),4)}.')"
   ]
  },
  {
   "cell_type": "code",
   "execution_count": 38,
   "metadata": {},
   "outputs": [],
   "source": [
    "# Get predictions\n",
    "pred = rf_model.predict(X_test_cv)\n",
    "# Save confusion matrix values\n",
    "\n",
    "tn, fp, fn, tp = confusion_matrix(y_test, pred).ravel()"
   ]
  },
  {
   "cell_type": "code",
   "execution_count": 39,
   "metadata": {},
   "outputs": [
    {
     "data": {
      "image/png": "[encoded data removed]",
      "text/plain": [
       "<Figure size 432x288 with 2 Axes>"
      ]
     },
     "metadata": {
      "needs_background": "light"
     },
     "output_type": "display_data"
    }
   ],
   "source": [
    "plot_confusion_matrix(rf_model, X_test_cv, y_test, cmap='Blues', values_format='d');"
   ]
  },
  {
   "cell_type": "code",
   "execution_count": 40,
   "metadata": {},
   "outputs": [
    {
     "name": "stdout",
     "output_type": "stream",
     "text": [
      "Specificity: 0.8584\n",
      "Sensitivity: 0.8384\n"
     ]
    }
   ],
   "source": [
    "# Calculate the specificity  and Sensitivity \n",
    "spec = tn / (tn + fp)\n",
    "\n",
    "print(f'Specificity: {round(spec,4)}')\n",
    "\n",
    "sens = tp / (tp + fn)\n",
    "\n",
    "print(f'Sensitivity: {round(sens,4)}')"
   ]
  },
  {
   "cell_type": "markdown",
   "metadata": {},
   "source": [
    "## Evaluation"
   ]
  },
  {
   "cell_type": "markdown",
   "metadata": {},
   "source": [
    "All three models performed significally higher that the baseline accuracy of 50%. Based on the test accuracy score, the naive bayes classification model performed the best out of the three. Even though it had a slightly lower score on both train and test data, it had the highest accuracy score and was the least overfit out of the three models. \n",
    "\n",
    "The next step to improve my model would include in covering more parameter options in GridSearchCV, expand my list of stop words, and look into mislcassifications. Futhermore, I believe a sentiment analysis would prove itself to be very useful and informative."
   ]
  },
  {
   "cell_type": "markdown",
   "metadata": {},
   "source": [
    "| Model    | train  score | test score | specificity | sensitivity |\n",
    "|----------|--------------|------------|-------------|-------------|\n",
    "| lr_model | 0.985        | 0.868      | 0.893       | 0.842       |\n",
    "| mnb_model| 0.966        | 0.85       | 0.808       | 0.89        |\n",
    "| rf_model | 0.991        | 0.848      | 0.858       | 0.838       |"
   ]
  }
 ],
 "metadata": {
  "kernelspec": {
   "display_name": "Python 3",
   "language": "python",
   "name": "python3"
  },
  "language_info": {
   "codemirror_mode": {
    "name": "ipython",
    "version": 3
   },
   "file_extension": ".py",
   "mimetype": "text/x-python",
   "name": "python",
   "nbconvert_exporter": "python",
   "pygments_lexer": "ipython3",
   "version": "3.8.3"
  }
 },
 "nbformat": 4,
 "nbformat_minor": 4
}
